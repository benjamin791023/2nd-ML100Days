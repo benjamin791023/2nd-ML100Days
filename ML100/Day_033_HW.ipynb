{
 "cells": [
  {
   "cell_type": "code",
   "execution_count": null,
   "metadata": {},
   "outputs": [],
   "source": [
    "1. 泛化能力:\n",
    "    #泛化能力應該是指模式在訓練過後對於新的樣本也應該有好的預測或是分類能力，也就是對於資料的規律性有好的描述，而有合理的輸出\n",
    "    #不應該有太大的偏向性導致模式對某一群的資料有較好的預測能力，卻忽略了新的樣本的預測能力。\n",
    "2. 回歸模型:\n",
    "    #1. 均方誤差\n",
    "    #2. 平均絕對誤差(L1誤差)\n",
    "    #3. Huber loss 誤差\n",
    "    #4. log cosh誤差\n",
    "    #5. 分位數誤差\n",
    "3. 分類模型:\n",
    "    #1. 0-1損失函數\n",
    "    #2. 交叉螪損失函數\n",
    "    #3. hinge loss"
   ]
  }
 ],
 "metadata": {
  "kernelspec": {
   "display_name": "Python 3",
   "language": "python",
   "name": "python3"
  },
  "language_info": {
   "codemirror_mode": {
    "name": "ipython",
    "version": 3
   },
   "file_extension": ".py",
   "mimetype": "text/x-python",
   "name": "python",
   "nbconvert_exporter": "python",
   "pygments_lexer": "ipython3",
   "version": "3.6.5"
  }
 },
 "nbformat": 4,
 "nbformat_minor": 2
}
