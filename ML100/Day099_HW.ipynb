{
 "cells": [
  {
   "cell_type": "code",
   "execution_count": 1,
   "metadata": {},
   "outputs": [
    {
     "name": "stderr",
     "output_type": "stream",
     "text": [
      "C:\\Users\\benja\\Anaconda3\\lib\\site-packages\\h5py\\__init__.py:36: FutureWarning: Conversion of the second argument of issubdtype from `float` to `np.floating` is deprecated. In future, it will be treated as `np.float64 == np.dtype(float).type`.\n",
      "  from ._conv import register_converters as _register_converters\n",
      "Using TensorFlow backend.\n"
     ]
    }
   ],
   "source": [
    "import keras\n",
    "from keras.datasets import cifar10\n",
    "from keras.preprocessing.image import ImageDataGenerator\n",
    "from keras.models import Sequential\n",
    "from keras.layers import Dense, Dropout, Activation, Flatten\n",
    "from keras.layers import Conv2D, MaxPooling2D\n",
    "from keras.optimizers import RMSprop, Adam\n",
    "import os"
   ]
  },
  {
   "cell_type": "code",
   "execution_count": 22,
   "metadata": {},
   "outputs": [
    {
     "name": "stdout",
     "output_type": "stream",
     "text": [
      "x_train shape: (50000, 32, 32, 3)\n",
      "50000 train samples\n",
      "10000 test samples\n",
      "(50000, 32, 32, 3)\n"
     ]
    }
   ],
   "source": [
    "batch_size = 128 # batch 的大小，如果出現 OOM error，請降低這個值\n",
    "num_classes = 10 # 類別的數量，Cifar 10 共有 10 個類別\n",
    "epochs = 10 # 訓練的 epochs 數量\n",
    "\n",
    "# 讀取資料並檢視\n",
    "(x_train, y_train), (x_test, y_test) = cifar10.load_data()\n",
    "print('x_train shape:', x_train.shape)\n",
    "print(x_train.shape[0], 'train samples')\n",
    "print(x_test.shape[0], 'test samples')\n",
    "\n",
    "# 對 label 進行 one-hot encoding (y_trian 原本是純數字)\n",
    "y_train = keras.utils.to_categorical(y_train, num_classes)\n",
    "y_test = keras.utils.to_categorical(y_test, num_classes)\n",
    "print(x_train.shape)"
   ]
  },
  {
   "cell_type": "code",
   "execution_count": 23,
   "metadata": {},
   "outputs": [],
   "source": [
    "data_generator = ImageDataGenerator(\n",
    "    rotation_range=20,\n",
    "    width_shift_range=0.2,\n",
    "    height_shift_range=0.2,\n",
    "    horizontal_flip=True)"
   ]
  },
  {
   "cell_type": "code",
   "execution_count": 24,
   "metadata": {},
   "outputs": [],
   "source": [
    "def img_combine(img, ncols=8, size=1, path=False):\n",
    "    from math import ceil\n",
    "    import matplotlib.pyplot as plt\n",
    "    import numpy as np\n",
    "    nimg = len(img)\n",
    "    nrows = int(ceil(nimg/ncols))\n",
    "    fig, axes = plt.subplots(nrows=nrows, ncols=ncols, sharex=True, sharey=True, figsize=(ncols*size,nrows*size))\n",
    "    if nrows == 0:\n",
    "        return\n",
    "    elif ncols == 1:\n",
    "        for r, ax in zip(np.arange(nrows), axes):\n",
    "            nth=r\n",
    "            if nth < nimg:\n",
    "                ax.imshow(img[nth], cmap='rainbow', vmin=0, vmax=1)\n",
    "                \n",
    "            ax.set_axis_off()\n",
    "    elif nrows == 1:\n",
    "        for c, ax in zip(np.arange(ncols), axes):\n",
    "            nth=c\n",
    "            if nth < nimg:\n",
    "                ax.imshow(img[nth], cmap='rainbow', vmin=0, vmax=1)\n",
    "            ax.set_axis_off()\n",
    "    else:\n",
    "        for r, row in zip(np.arange(nrows), axes):\n",
    "            for c, ax in zip(np.arange(ncols), row):\n",
    "                nth=r*ncols+c\n",
    "                if nth < nimg:\n",
    "                    ax.imshow(img[nth], cmap='rainbow', vmin=0, vmax=1)\n",
    "                ax.set_axis_off()\n",
    "    plt.show()\n"
   ]
  },
  {
   "cell_type": "code",
   "execution_count": null,
   "metadata": {},
   "outputs": [],
   "source": [
    "augmented_iamges = next(data_generator.flow(x_train, shuffle=False))\n",
    "x_train = augmented_iamges.astype('int')"
   ]
  },
  {
   "cell_type": "code",
   "execution_count": 25,
   "metadata": {},
   "outputs": [
    {
     "data": {
      "image/png": "[encoded data removed]",
      "text/plain": [
       "<Figure size 576x288 with 32 Axes>"
      ]
     },
     "metadata": {},
     "output_type": "display_data"
    },
    {
     "data": {
      "image/png": "[encoded data removed]",
      "text/plain": [
       "<Figure size 576x288 with 32 Axes>"
      ]
     },
     "metadata": {},
     "output_type": "display_data"
    },
    {
     "data": {
      "image/png": "[encoded data removed]",
      "text/plain": [
       "<Figure size 576x288 with 32 Axes>"
      ]
     },
     "metadata": {},
     "output_type": "display_data"
    },
    {
     "data": {
      "image/png": "[encoded data removed]",
      "text/plain": [
       "<Figure size 576x288 with 32 Axes>"
      ]
     },
     "metadata": {},
     "output_type": "display_data"
    },
    {
     "name": "stderr",
     "output_type": "stream",
     "text": [
      "ERROR:root:Internal Python error in the inspect module.\n",
      "Below is the traceback from this internal error.\n",
      "\n"
     ]
    },
    {
     "name": "stdout",
     "output_type": "stream",
     "text": [
      "Traceback (most recent call last):\n",
      "  File \"C:\\Users\\benja\\Anaconda3\\lib\\site-packages\\IPython\\core\\interactiveshell.py\", line 2963, in run_code\n",
      "    exec(code_obj, self.user_global_ns, self.user_ns)\n",
      "  File \"<ipython-input-25-6f9d72c4b910>\", line 2, in <module>\n",
      "    img_combine(a)\n",
      "  File \"<ipython-input-24-77a214698a15>\", line 30, in img_combine\n",
      "    plt.show()\n",
      "  File \"C:\\Users\\benja\\AppData\\Roaming\\Python\\Python36\\site-packages\\matplotlib\\pyplot.py\", line 263, in show\n",
      "    return _show(*args, **kw)\n",
      "  File \"C:\\Users\\benja\\Anaconda3\\lib\\site-packages\\ipykernel\\pylab\\backend_inline.py\", line 36, in show\n",
      "    display(figure_manager.canvas.figure)\n",
      "  File \"C:\\Users\\benja\\Anaconda3\\lib\\site-packages\\IPython\\core\\display.py\", line 298, in display\n",
      "    format_dict, md_dict = format(obj, include=include, exclude=exclude)\n",
      "  File \"C:\\Users\\benja\\Anaconda3\\lib\\site-packages\\IPython\\core\\formatters.py\", line 180, in format\n",
      "    data = formatter(obj)\n",
      "  File \"<decorator-gen-9>\", line 2, in __call__\n",
      "  File \"C:\\Users\\benja\\Anaconda3\\lib\\site-packages\\IPython\\core\\formatters.py\", line 224, in catch_format_error\n",
      "    r = method(self, *args, **kwargs)\n",
      "  File \"C:\\Users\\benja\\Anaconda3\\lib\\site-packages\\IPython\\core\\formatters.py\", line 341, in __call__\n",
      "    return printer(obj)\n",
      "  File \"C:\\Users\\benja\\Anaconda3\\lib\\site-packages\\IPython\\core\\pylabtools.py\", line 241, in <lambda>\n",
      "    png_formatter.for_type(Figure, lambda fig: print_figure(fig, 'png', **kwargs))\n",
      "  File \"C:\\Users\\benja\\Anaconda3\\lib\\site-packages\\IPython\\core\\pylabtools.py\", line 125, in print_figure\n",
      "    fig.canvas.print_figure(bytes_io, **kw)\n",
      "  File \"C:\\Users\\benja\\AppData\\Roaming\\Python\\Python36\\site-packages\\matplotlib\\backend_bases.py\", line 2060, in print_figure\n",
      "    bbox_extra_artists=bbox_artists)\n",
      "  File \"C:\\Users\\benja\\AppData\\Roaming\\Python\\Python36\\site-packages\\matplotlib\\figure.py\", line 2376, in get_tightbbox\n",
      "    bbox_extra_artists=bbox_extra_artists)\n",
      "  File \"C:\\Users\\benja\\AppData\\Roaming\\Python\\Python36\\site-packages\\matplotlib\\axes\\_base.py\", line 4359, in get_tightbbox\n",
      "    self._update_title_position(renderer)\n",
      "  File \"C:\\Users\\benja\\AppData\\Roaming\\Python\\Python36\\site-packages\\matplotlib\\axes\\_base.py\", line 2547, in _update_title_position\n",
      "    bb = ax.xaxis.get_tightbbox(renderer)\n",
      "  File \"C:\\Users\\benja\\AppData\\Roaming\\Python\\Python36\\site-packages\\matplotlib\\axis.py\", line 1165, in get_tightbbox\n",
      "    self._update_label_position(renderer)\n",
      "  File \"C:\\Users\\benja\\AppData\\Roaming\\Python\\Python36\\site-packages\\matplotlib\\axis.py\", line 1987, in _update_label_position\n",
      "    bboxes, bboxes2 = self._get_tick_boxes_siblings(renderer=renderer)\n",
      "  File \"C:\\Users\\benja\\AppData\\Roaming\\Python\\Python36\\site-packages\\matplotlib\\axis.py\", line 1971, in _get_tick_boxes_siblings\n",
      "    ticks_to_draw = axx.xaxis._update_ticks()\n",
      "  File \"C:\\Users\\benja\\AppData\\Roaming\\Python\\Python36\\site-packages\\matplotlib\\axis.py\", line 1080, in _update_ticks\n",
      "    major_locs = self.get_majorticklocs()\n",
      "  File \"C:\\Users\\benja\\AppData\\Roaming\\Python\\Python36\\site-packages\\matplotlib\\axis.py\", line 1325, in get_majorticklocs\n",
      "    return self.major.locator()\n",
      "  File \"C:\\Users\\benja\\AppData\\Roaming\\Python\\Python36\\site-packages\\matplotlib\\ticker.py\", line 2078, in __call__\n",
      "    return self.tick_values(vmin, vmax)\n",
      "  File \"C:\\Users\\benja\\AppData\\Roaming\\Python\\Python36\\site-packages\\matplotlib\\ticker.py\", line 2086, in tick_values\n",
      "    locs = self._raw_ticks(vmin, vmax)\n",
      "  File \"C:\\Users\\benja\\AppData\\Roaming\\Python\\Python36\\site-packages\\matplotlib\\ticker.py\", line 2025, in _raw_ticks\n",
      "    nbins = np.clip(self.axis.get_tick_space(),\n",
      "  File \"C:\\Users\\benja\\AppData\\Roaming\\Python\\Python36\\site-packages\\matplotlib\\axis.py\", line 2175, in get_tick_space\n",
      "    tick = self._get_tick(True)\n",
      "  File \"C:\\Users\\benja\\AppData\\Roaming\\Python\\Python36\\site-packages\\matplotlib\\axis.py\", line 1906, in _get_tick\n",
      "    return XTick(self.axes, 0, '', major=major, **tick_kw)\n",
      "  File \"C:\\Users\\benja\\AppData\\Roaming\\Python\\Python36\\site-packages\\matplotlib\\axis.py\", line 161, in __init__\n",
      "    self.label1 = self._get_text1()\n",
      "  File \"C:\\Users\\benja\\AppData\\Roaming\\Python\\Python36\\site-packages\\matplotlib\\axis.py\", line 436, in _get_text1\n",
      "    horizontalalignment=horiz,\n",
      "  File \"C:\\Users\\benja\\AppData\\Roaming\\Python\\Python36\\site-packages\\matplotlib\\text.py\", line 142, in __init__\n",
      "    Artist.__init__(self)\n",
      "  File \"C:\\Users\\benja\\AppData\\Roaming\\Python\\Python36\\site-packages\\matplotlib\\artist.py\", line 106, in __init__\n",
      "    self._sketch = rcParams['path.sketch']\n",
      "  File \"C:\\Users\\benja\\AppData\\Roaming\\Python\\Python36\\site-packages\\matplotlib\\__init__.py\", line 822, in __getitem__\n",
      "    return dict.__getitem__(self, key)\n",
      "KeyboardInterrupt\n",
      "\n",
      "During handling of the above exception, another exception occurred:\n",
      "\n",
      "Traceback (most recent call last):\n",
      "  File \"C:\\Users\\benja\\Anaconda3\\lib\\site-packages\\IPython\\core\\interactiveshell.py\", line 1863, in showtraceback\n",
      "    stb = value._render_traceback_()\n",
      "AttributeError: 'KeyboardInterrupt' object has no attribute '_render_traceback_'\n",
      "\n",
      "During handling of the above exception, another exception occurred:\n",
      "\n",
      "Traceback (most recent call last):\n",
      "  File \"C:\\Users\\benja\\Anaconda3\\lib\\site-packages\\IPython\\core\\ultratb.py\", line 1095, in get_records\n",
      "    return _fixed_getinnerframes(etb, number_of_lines_of_context, tb_offset)\n",
      "  File \"C:\\Users\\benja\\Anaconda3\\lib\\site-packages\\IPython\\core\\ultratb.py\", line 311, in wrapped\n",
      "    return f(*args, **kwargs)\n",
      "  File \"C:\\Users\\benja\\Anaconda3\\lib\\site-packages\\IPython\\core\\ultratb.py\", line 345, in _fixed_getinnerframes\n",
      "    records = fix_frame_records_filenames(inspect.getinnerframes(etb, context))\n",
      "  File \"C:\\Users\\benja\\Anaconda3\\lib\\inspect.py\", line 1483, in getinnerframes\n",
      "    frameinfo = (tb.tb_frame,) + getframeinfo(tb, context)\n",
      "  File \"C:\\Users\\benja\\Anaconda3\\lib\\inspect.py\", line 1445, in getframeinfo\n",
      "    lines, lnum = findsource(frame)\n",
      "  File \"C:\\Users\\benja\\Anaconda3\\lib\\site-packages\\IPython\\core\\ultratb.py\", line 177, in findsource\n",
      "    lines = linecache.getlines(file, globals_dict)\n",
      "  File \"C:\\Users\\benja\\Anaconda3\\lib\\linecache.py\", line 47, in getlines\n",
      "    return updatecache(filename, module_globals)\n",
      "  File \"C:\\Users\\benja\\Anaconda3\\lib\\linecache.py\", line 136, in updatecache\n",
      "    with tokenize.open(fullname) as fp:\n",
      "  File \"C:\\Users\\benja\\Anaconda3\\lib\\tokenize.py\", line 452, in open\n",
      "    buffer = _builtin_open(filename, 'rb')\n",
      "KeyboardInterrupt\n"
     ]
    },
    {
     "ename": "KeyboardInterrupt",
     "evalue": "",
     "output_type": "error",
     "traceback": [
      "\u001b[1;31m---------------------------------------------------------------------------\u001b[0m"
     ]
    }
   ],
   "source": [
    "for a in next(data_generator.flow(x_train, shuffle=False)):\n",
    "    img_combine(a)"
   ]
  },
  {
   "cell_type": "code",
   "execution_count": 19,
   "metadata": {},
   "outputs": [
    {
     "name": "stdout",
     "output_type": "stream",
     "text": [
      "(32, 3072)\n"
     ]
    }
   ],
   "source": [
    "def cifar_generator(image_array, label_array, batch_size=32):\n",
    "    while True:\n",
    "        for indexs in range(0, len(image_array), batch_size):\n",
    "            images = image_array[indexs: indexs+batch_size]\n",
    "            labels = label_array[indexs: indexs+batch_size]\n",
    "            yield images, labels"
   ]
  },
  {
   "cell_type": "code",
   "execution_count": 20,
   "metadata": {},
   "outputs": [
    {
     "name": "stdout",
     "output_type": "stream",
     "text": [
      "_________________________________________________________________\n",
      "Layer (type)                 Output Shape              Param #   \n",
      "=================================================================\n",
      "dense_1 (Dense)              (None, 512)               1573376   \n",
      "_________________________________________________________________\n",
      "dropout_1 (Dropout)          (None, 512)               0         \n",
      "_________________________________________________________________\n",
      "dense_2 (Dense)              (None, 512)               262656    \n",
      "_________________________________________________________________\n",
      "dropout_2 (Dropout)          (None, 512)               0         \n",
      "_________________________________________________________________\n",
      "dense_3 (Dense)              (None, 10)                5130      \n",
      "=================================================================\n",
      "Total params: 1,841,162\n",
      "Trainable params: 1,841,162\n",
      "Non-trainable params: 0\n",
      "_________________________________________________________________\n"
     ]
    },
    {
     "ename": "NameError",
     "evalue": "name 'cifar_generator' is not defined",
     "output_type": "error",
     "traceback": [
      "\u001b[1;31m---------------------------------------------------------------------------\u001b[0m",
      "\u001b[1;31mNameError\u001b[0m                                 Traceback (most recent call last)",
      "\u001b[1;32m<ipython-input-20-64cf1e91a9d7>\u001b[0m in \u001b[0;36m<module>\u001b[1;34m()\u001b[0m\n\u001b[0;32m     13\u001b[0m \u001b[1;33m\u001b[0m\u001b[0m\n\u001b[0;32m     14\u001b[0m \u001b[1;33m\u001b[0m\u001b[0m\n\u001b[1;32m---> 15\u001b[1;33m history = model.fit_generator(cifar_generator(x_train, y_train, batch_size),\n\u001b[0m\u001b[0;32m     16\u001b[0m                     steps_per_epoch=10000, epochs=5)\n\u001b[0;32m     17\u001b[0m \u001b[0mscore\u001b[0m \u001b[1;33m=\u001b[0m \u001b[0mmodel\u001b[0m\u001b[1;33m.\u001b[0m\u001b[0mevaluate\u001b[0m\u001b[1;33m(\u001b[0m\u001b[0mx_test\u001b[0m\u001b[1;33m,\u001b[0m \u001b[0my_test\u001b[0m\u001b[1;33m,\u001b[0m \u001b[0mverbose\u001b[0m\u001b[1;33m=\u001b[0m\u001b[1;36m0\u001b[0m\u001b[1;33m)\u001b[0m\u001b[1;33m\u001b[0m\u001b[0m\n",
      "\u001b[1;31mNameError\u001b[0m: name 'cifar_generator' is not defined"
     ]
    }
   ],
   "source": [
    "model = Sequential()\n",
    "model.add(Dense(512, activation='relu', input_shape=(3072,)))\n",
    "model.add(Dropout(0.2))\n",
    "model.add(Dense(512, activation='relu'))\n",
    "model.add(Dropout(0.2))\n",
    "model.add(Dense(num_classes, activation='softmax'))\n",
    "\n",
    "model.summary()\n",
    "\n",
    "model.compile(loss='categorical_crossentropy',\n",
    "              optimizer=RMSprop(),\n",
    "              metrics=['accuracy'])\n",
    "\n",
    "\n",
    "history = model.fit_generator(cifar_generator(x_train, y_train, batch_size),\n",
    "                    steps_per_epoch=10000, epochs=5)\n",
    "score = model.evaluate(x_test, y_test, verbose=0)\n",
    "print('Test loss:', score[0])\n",
    "print('Test accuracy:', score[1])"
   ]
  },
  {
   "cell_type": "code",
   "execution_count": null,
   "metadata": {},
   "outputs": [],
   "source": []
  }
 ],
 "metadata": {
  "kernelspec": {
   "display_name": "Python 3",
   "language": "python",
   "name": "python3"
  },
  "language_info": {
   "codemirror_mode": {
    "name": "ipython",
    "version": 3
   },
   "file_extension": ".py",
   "mimetype": "text/x-python",
   "name": "python",
   "nbconvert_exporter": "python",
   "pygments_lexer": "ipython3",
   "version": "3.6.5"
  }
 },
 "nbformat": 4,
 "nbformat_minor": 2
}
