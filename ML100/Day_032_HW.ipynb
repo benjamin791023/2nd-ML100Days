{
 "cells": [
  {
   "cell_type": "markdown",
   "metadata": {},
   "source": [
    "乳腺癌與DL(from 機器之心)\n",
    "#1.目標:\n",
    "    #是否罹患乳腺癌\n",
    "#2.方法\n",
    "    #應該透過分析傳統臨床病理資料與X光照片\n",
    "    #將傳統病理資料透過模型分析並將X光照片經由DL(CNN)對於傳統病理資料與X光照片資料做結合，來預測早發性的乳腺癌或是乳腺癌的高風險族群\n",
    "#3.資料來源\n",
    "    #各大醫院所收集的臨床資料與x光檢驗圖片，並從追蹤資料收集是否罹患乳腺癌的label。"
   ]
  },
  {
   "cell_type": "code",
   "execution_count": null,
   "metadata": {},
   "outputs": [],
   "source": []
  }
 ],
 "metadata": {
  "kernelspec": {
   "display_name": "Python 3",
   "language": "python",
   "name": "python3"
  },
  "language_info": {
   "codemirror_mode": {
    "name": "ipython",
    "version": 3
   },
   "file_extension": ".py",
   "mimetype": "text/x-python",
   "name": "python",
   "nbconvert_exporter": "python",
   "pygments_lexer": "ipython3",
   "version": "3.6.5"
  }
 },
 "nbformat": 4,
 "nbformat_minor": 2
}
