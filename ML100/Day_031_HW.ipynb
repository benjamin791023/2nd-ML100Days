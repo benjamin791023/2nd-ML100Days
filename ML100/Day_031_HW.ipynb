{
 "cells": [
  {
   "cell_type": "markdown",
   "metadata": {},
   "source": [
    "我覺得最近會火紅的領域主要有兩個\n",
    "#1: 影像辨識:\n",
    "    #影像辨識在應用上除了製造工程的代替人工分辨產品良率之外\n",
    "    #還有在生活上的應用能夠代替需要的低階人工，像是人臉辨識、物體辨識、甚至在醫學上進行病種辨識、生物研究上對於品種進行辨識，等等數不進對於影像的客觀辨識與物體分類或分辨。"
   ]
  },
  {
   "cell_type": "code",
   "execution_count": null,
   "metadata": {},
   "outputs": [],
   "source": []
  }
 ],
 "metadata": {
  "kernelspec": {
   "display_name": "Python 3",
   "language": "python",
   "name": "python3"
  },
  "language_info": {
   "codemirror_mode": {
    "name": "ipython",
    "version": 3
   },
   "file_extension": ".py",
   "mimetype": "text/x-python",
   "name": "python",
   "nbconvert_exporter": "python",
   "pygments_lexer": "ipython3",
   "version": "3.6.5"
  }
 },
 "nbformat": 4,
 "nbformat_minor": 2
}
