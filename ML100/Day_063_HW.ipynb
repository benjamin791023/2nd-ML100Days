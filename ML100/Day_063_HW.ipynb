{
 "cells": [
  {
   "cell_type": "markdown",
   "metadata": {},
   "source": [
    "# 作業\n",
    "* 在精簡深度學習的方式上 : 卷積類神經 (CNN) 採用像素遠近，而遞歸類神經 (RNN) 採用著則是時間遠近\n",
    "* 那麼，既然有著類似的設計精神，兩者是否有可能互換應用呢?"
   ]
  },
  {
   "cell_type": "code",
   "execution_count": null,
   "metadata": {
    "collapsed": true
   },
   "outputs": [],
   "source": [
    "要看應用場景，如果對於時間上的遠近概念換成空間遠近的話，就可以使用CNN來進行分類，\n",
    "比如比對其他事件的上一個時間點或上兩個時間點，把不同事件的時間排列在一起，事件與時間成為了一個二維的分布了\n",
    "這時用CNN就會有它的用處。\n",
    "另外一個二維分布的空間上(例如圖片)，假如這時有很多圖片形成一個時間上的空間分布，這時同一個像素上就會有不同的時間分布\n",
    "這時空間遠近可以換成時間遠近的概念"
   ]
  }
 ],
 "metadata": {
  "kernelspec": {
   "display_name": "Python 3",
   "language": "python",
   "name": "python3"
  },
  "language_info": {
   "codemirror_mode": {
    "name": "ipython",
    "version": 3
   },
   "file_extension": ".py",
   "mimetype": "text/x-python",
   "name": "python",
   "nbconvert_exporter": "python",
   "pygments_lexer": "ipython3",
   "version": "3.6.7"
  }
 },
 "nbformat": 4,
 "nbformat_minor": 2
}
