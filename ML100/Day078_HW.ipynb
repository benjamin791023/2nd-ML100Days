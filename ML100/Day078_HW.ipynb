{
 "cells": [
  {
   "cell_type": "markdown",
   "metadata": {},
   "source": [
    "## Work\n",
    "1. 請嘗試將 preproc_x 替換成以每筆資料的 min/max 進行標準化至 -1 ~ 1 間，再進行訓練\n",
    "2. 請嘗試將 mlp 疊更深 (e.g 5~10 層)，進行訓練後觀察 learning curve 的走勢\n",
    "3. (optional) 請改用 GPU 進行訓練 (如果你有 GPU 的話)，比較使用 CPU 與 GPU 的訓練速度"
   ]
  },
  {
   "cell_type": "code",
   "execution_count": 1,
   "metadata": {},
   "outputs": [],
   "source": [
    "## \n",
    "\"\"\"\n",
    "Your code here (optional)\n",
    "確認硬體資源\n",
    "\"\"\"\n"
   ]
  },
  {
   "cell_type": "code",
   "execution_count": 1,
   "metadata": {},
   "outputs": [
    {
     "name": "stderr",
     "output_type": "stream",
     "text": [
      "C:\\Users\\benja\\Anaconda3\\lib\\site-packages\\h5py\\__init__.py:36: FutureWarning: Conversion of the second argument of issubdtype from `float` to `np.floating` is deprecated. In future, it will be treated as `np.float64 == np.dtype(float).type`.\n",
      "  from ._conv import register_converters as _register_converters\n",
      "Using TensorFlow backend.\n"
     ]
    }
   ],
   "source": [
    "import os\n",
    "import keras\n",
    "\n",
    "# 請嘗試設定 GPU：os.environ\n"
   ]
  },
  {
   "cell_type": "code",
   "execution_count": 15,
   "metadata": {},
   "outputs": [],
   "source": [
    "train, test = keras.datasets.cifar10.load_data()"
   ]
  },
  {
   "cell_type": "code",
   "execution_count": 19,
   "metadata": {},
   "outputs": [],
   "source": [
    "## 資料前處理\n",
    "\"\"\"\n",
    "Your code here\n",
    "\"\"\"\n",
    "def preproc_x(x, max_in=0, min_in=0, flatten=True):\n",
    "    for i in range(x.shape[0]):\n",
    "        for j in range(x.shape[-1]):\n",
    "            x[i,:,:,j] = x[i,:,:,j] / max(x[i,:,:,j].reshape(-1, 1))\n",
    "    if flatten:\n",
    "        x = x.reshape((len(x), -1))\n",
    "    return x\n",
    "\n",
    "def preproc_y(y, num_classes=10):\n",
    "    if y.shape[-1] == 1:\n",
    "        y = keras.utils.to_categorical(y, num_classes)\n",
    "    return y    "
   ]
  },
  {
   "cell_type": "code",
   "execution_count": 20,
   "metadata": {},
   "outputs": [
    {
     "name": "stdout",
     "output_type": "stream",
     "text": [
      "[[0 0 0 ... 0 0 0]\n",
      " [0 0 0 ... 0 0 0]\n",
      " [1 1 1 ... 0 0 0]\n",
      " ...\n",
      " [0 0 0 ... 0 0 0]\n",
      " [0 0 0 ... 0 0 0]\n",
      " [0 0 0 ... 0 0 0]]\n"
     ]
    }
   ],
   "source": [
    "x_train, y_train = train\n",
    "x_test, y_test = test\n",
    "\n",
    "# Preproc the inputs\n",
    "x_train = preproc_x(x_train)\n",
    "x_test = preproc_x(x_test)\n",
    "\n",
    "# Preprc the outputs\n",
    "y_train = preproc_y(y_train)\n",
    "y_test = preproc_y(y_test)\n",
    "print(x_train)"
   ]
  },
  {
   "cell_type": "code",
   "execution_count": 26,
   "metadata": {},
   "outputs": [],
   "source": [
    "\"\"\"Code Here\n",
    "建立你的神經網路\n",
    "\"\"\"\n",
    "def build_mlp(input_shape, output_units=10, num_neurons=[128, 64, 128,256, 128, 64]):\n",
    "    input_layer = keras.layers.Input(input_shape)\n",
    "    for i, n_units in enumerate(num_neurons):\n",
    "        if i == 0:\n",
    "            x = keras.layers.Dense(units=n_units, activation=\"relu\", name=\"hidden_layer\"+str(i+1))(input_layer)\n",
    "        else:\n",
    "            x = keras.layers.Dense(units=n_units, activation=\"relu\", name=\"hidden_layer\"+str(i+1))(x)\n",
    "    \n",
    "    out = keras.layers.Dense(units=output_units, activation=\"softmax\", name=\"output\")(x)\n",
    "    \n",
    "    model = keras.models.Model(inputs=[input_layer], outputs=[out])\n",
    "    return model\n",
    "model = build_mlp(input_shape=x_train.shape[1:])"
   ]
  },
  {
   "cell_type": "code",
   "execution_count": 27,
   "metadata": {},
   "outputs": [],
   "source": [
    "## 超參數設定\n",
    "LEARNING_RATE = 0.001\n",
    "EPOCHS = 100\n",
    "BATCH_SIZE = 256"
   ]
  },
  {
   "cell_type": "code",
   "execution_count": 28,
   "metadata": {},
   "outputs": [],
   "source": [
    "optimizer = keras.optimizers.Adam(lr=LEARNING_RATE)\n",
    "model.compile(loss=\"categorical_crossentropy\", metrics=[\"accuracy\"], optimizer=optimizer)"
   ]
  },
  {
   "cell_type": "code",
   "execution_count": 29,
   "metadata": {},
   "outputs": [
    {
     "name": "stdout",
     "output_type": "stream",
     "text": [
      "Train on 50000 samples, validate on 10000 samples\n",
      "Epoch 1/100\n",
      "50000/50000 [==============================] - 11s 222us/step - loss: 2.2525 - acc: 0.1437 - val_loss: 2.2235 - val_acc: 0.1646\n",
      "Epoch 2/100\n",
      "50000/50000 [==============================] - 10s 198us/step - loss: 2.1691 - acc: 0.1961 - val_loss: 2.2184 - val_acc: 0.1717\n",
      "Epoch 3/100\n",
      "50000/50000 [==============================] - 10s 196us/step - loss: 2.0506 - acc: 0.2532 - val_loss: 2.2634 - val_acc: 0.1669\n",
      "Epoch 4/100\n",
      "50000/50000 [==============================] - 10s 195us/step - loss: 1.8770 - acc: 0.3290 - val_loss: 2.3668 - val_acc: 0.1610\n",
      "Epoch 5/100\n",
      "50000/50000 [==============================] - 10s 197us/step - loss: 1.6586 - acc: 0.4169 - val_loss: 2.6370 - val_acc: 0.1570\n",
      "Epoch 6/100\n",
      "50000/50000 [==============================] - 10s 197us/step - loss: 1.4315 - acc: 0.5039 - val_loss: 2.8510 - val_acc: 0.1503\n",
      "Epoch 7/100\n",
      "50000/50000 [==============================] - 10s 198us/step - loss: 1.2321 - acc: 0.5801 - val_loss: 3.0535 - val_acc: 0.1506\n",
      "Epoch 8/100\n",
      "50000/50000 [==============================] - 9s 189us/step - loss: 1.0679 - acc: 0.6400 - val_loss: 3.5237 - val_acc: 0.1518\n",
      "Epoch 9/100\n",
      "50000/50000 [==============================] - 10s 194us/step - loss: 0.9382 - acc: 0.6848 - val_loss: 3.7959 - val_acc: 0.1421\n",
      "Epoch 10/100\n",
      "50000/50000 [==============================] - 10s 202us/step - loss: 0.8464 - acc: 0.7152 - val_loss: 4.0531 - val_acc: 0.1439\n",
      "Epoch 11/100\n",
      "50000/50000 [==============================] - 10s 192us/step - loss: 0.7742 - acc: 0.7402 - val_loss: 4.4315 - val_acc: 0.1436\n",
      "Epoch 12/100\n",
      "50000/50000 [==============================] - 10s 193us/step - loss: 0.7178 - acc: 0.7566 - val_loss: 4.6375 - val_acc: 0.1485\n",
      "Epoch 13/100\n",
      "50000/50000 [==============================] - 10s 190us/step - loss: 0.6730 - acc: 0.7726 - val_loss: 4.7972 - val_acc: 0.1451\n",
      "Epoch 14/100\n",
      "50000/50000 [==============================] - 9s 189us/step - loss: 0.6402 - acc: 0.7800 - val_loss: 5.2162 - val_acc: 0.1446\n",
      "Epoch 15/100\n",
      "50000/50000 [==============================] - 9s 188us/step - loss: 0.6161 - acc: 0.7887 - val_loss: 5.2504 - val_acc: 0.1435\n",
      "Epoch 16/100\n",
      "50000/50000 [==============================] - 10s 196us/step - loss: 0.5905 - acc: 0.7978 - val_loss: 5.3842 - val_acc: 0.1451\n",
      "Epoch 17/100\n",
      "50000/50000 [==============================] - 10s 192us/step - loss: 0.5761 - acc: 0.8022 - val_loss: 5.2755 - val_acc: 0.1458\n",
      "Epoch 18/100\n",
      "50000/50000 [==============================] - 9s 188us/step - loss: 0.5597 - acc: 0.8062 - val_loss: 5.5734 - val_acc: 0.1453\n",
      "Epoch 19/100\n",
      "50000/50000 [==============================] - 9s 189us/step - loss: 0.5475 - acc: 0.8106 - val_loss: 5.6826 - val_acc: 0.1415\n",
      "Epoch 20/100\n",
      "50000/50000 [==============================] - 10s 198us/step - loss: 0.5405 - acc: 0.8136 - val_loss: 5.7391 - val_acc: 0.1406\n",
      "Epoch 21/100\n",
      "50000/50000 [==============================] - 9s 188us/step - loss: 0.5279 - acc: 0.8158 - val_loss: 5.8011 - val_acc: 0.1449\n",
      "Epoch 22/100\n",
      "50000/50000 [==============================] - 9s 188us/step - loss: 0.5043 - acc: 0.8240 - val_loss: 6.1022 - val_acc: 0.1538\n",
      "Epoch 23/100\n",
      "50000/50000 [==============================] - 9s 186us/step - loss: 0.4952 - acc: 0.8270 - val_loss: 6.2323 - val_acc: 0.1492\n",
      "Epoch 24/100\n",
      "50000/50000 [==============================] - 9s 186us/step - loss: 0.4766 - acc: 0.8311 - val_loss: 6.2310 - val_acc: 0.1465\n",
      "Epoch 25/100\n",
      "50000/50000 [==============================] - 9s 184us/step - loss: 0.4741 - acc: 0.8314 - val_loss: 6.4151 - val_acc: 0.1454\n",
      "Epoch 26/100\n",
      "50000/50000 [==============================] - 9s 183us/step - loss: 0.4980 - acc: 0.8248 - val_loss: 6.1185 - val_acc: 0.1449\n",
      "Epoch 27/100\n",
      "50000/50000 [==============================] - 9s 184us/step - loss: 0.4828 - acc: 0.8294 - val_loss: 6.3102 - val_acc: 0.1463\n",
      "Epoch 28/100\n",
      "50000/50000 [==============================] - 9s 184us/step - loss: 0.4642 - acc: 0.8367 - val_loss: 6.3556 - val_acc: 0.1437\n",
      "Epoch 29/100\n",
      "50000/50000 [==============================] - 9s 183us/step - loss: 0.4520 - acc: 0.8402 - val_loss: 6.3975 - val_acc: 0.1466\n",
      "Epoch 30/100\n",
      "50000/50000 [==============================] - 9s 180us/step - loss: 0.4517 - acc: 0.8390 - val_loss: 6.2555 - val_acc: 0.1450\n",
      "Epoch 31/100\n",
      "50000/50000 [==============================] - 10s 191us/step - loss: 0.4530 - acc: 0.8381 - val_loss: 6.2592 - val_acc: 0.1519\n",
      "Epoch 32/100\n",
      "50000/50000 [==============================] - 9s 188us/step - loss: 0.4386 - acc: 0.8430 - val_loss: 6.8355 - val_acc: 0.1509\n",
      "Epoch 33/100\n",
      "50000/50000 [==============================] - 9s 186us/step - loss: 0.4430 - acc: 0.8406 - val_loss: 6.5561 - val_acc: 0.1450\n",
      "Epoch 34/100\n",
      "50000/50000 [==============================] - 9s 183us/step - loss: 0.4341 - acc: 0.8439 - val_loss: 6.6602 - val_acc: 0.1412\n",
      "Epoch 35/100\n",
      "50000/50000 [==============================] - 9s 180us/step - loss: 0.4268 - acc: 0.8461 - val_loss: 6.7463 - val_acc: 0.1474\n",
      "Epoch 36/100\n",
      "50000/50000 [==============================] - 9s 179us/step - loss: 0.4265 - acc: 0.8472 - val_loss: 6.8359 - val_acc: 0.1522\n",
      "Epoch 37/100\n",
      "50000/50000 [==============================] - 9s 182us/step - loss: 0.4288 - acc: 0.8438 - val_loss: 6.7308 - val_acc: 0.1462\n",
      "Epoch 38/100\n",
      "50000/50000 [==============================] - 9s 180us/step - loss: 0.4338 - acc: 0.8433 - val_loss: 6.6613 - val_acc: 0.1473\n",
      "Epoch 39/100\n",
      "50000/50000 [==============================] - 9s 179us/step - loss: 0.4301 - acc: 0.8444 - val_loss: 6.7219 - val_acc: 0.1464\n",
      "Epoch 40/100\n",
      "50000/50000 [==============================] - 9s 178us/step - loss: 0.4196 - acc: 0.8484 - val_loss: 6.7789 - val_acc: 0.1492\n",
      "Epoch 41/100\n",
      "50000/50000 [==============================] - 9s 183us/step - loss: 0.4102 - acc: 0.8500 - val_loss: 6.8886 - val_acc: 0.1457\n",
      "Epoch 42/100\n",
      "50000/50000 [==============================] - 9s 181us/step - loss: 0.4105 - acc: 0.8503 - val_loss: 6.8306 - val_acc: 0.1464\n",
      "Epoch 43/100\n",
      "50000/50000 [==============================] - 9s 184us/step - loss: 0.4124 - acc: 0.8489 - val_loss: 6.8422 - val_acc: 0.1508\n",
      "Epoch 44/100\n",
      "50000/50000 [==============================] - 9s 183us/step - loss: 0.4037 - acc: 0.8520 - val_loss: 6.9231 - val_acc: 0.1505\n",
      "Epoch 45/100\n",
      "50000/50000 [==============================] - 9s 180us/step - loss: 0.4042 - acc: 0.8524 - val_loss: 6.8852 - val_acc: 0.1460\n",
      "Epoch 46/100\n",
      "50000/50000 [==============================] - 9s 178us/step - loss: 0.4059 - acc: 0.8512 - val_loss: 6.9263 - val_acc: 0.1523\n",
      "Epoch 47/100\n",
      "50000/50000 [==============================] - 9s 178us/step - loss: 0.3937 - acc: 0.8553 - val_loss: 6.6677 - val_acc: 0.1505\n",
      "Epoch 48/100\n",
      "50000/50000 [==============================] - 9s 179us/step - loss: 0.3973 - acc: 0.8520 - val_loss: 6.8365 - val_acc: 0.1514\n",
      "Epoch 49/100\n",
      "50000/50000 [==============================] - 9s 180us/step - loss: 0.3971 - acc: 0.8536 - val_loss: 6.9733 - val_acc: 0.1465\n",
      "Epoch 50/100\n",
      "50000/50000 [==============================] - 9s 179us/step - loss: 0.3889 - acc: 0.8554 - val_loss: 7.1224 - val_acc: 0.1481\n",
      "Epoch 51/100\n",
      "50000/50000 [==============================] - 9s 174us/step - loss: 0.3852 - acc: 0.8560 - val_loss: 7.1444 - val_acc: 0.1553\n",
      "Epoch 52/100\n",
      "50000/50000 [==============================] - 9s 177us/step - loss: 0.3917 - acc: 0.8558 - val_loss: 6.9815 - val_acc: 0.1467\n",
      "Epoch 53/100\n",
      "50000/50000 [==============================] - 9s 174us/step - loss: 0.3954 - acc: 0.8535 - val_loss: 7.1854 - val_acc: 0.1510\n",
      "Epoch 54/100\n",
      "50000/50000 [==============================] - 9s 180us/step - loss: 0.3997 - acc: 0.8515 - val_loss: 6.9108 - val_acc: 0.1485\n",
      "Epoch 55/100\n",
      "50000/50000 [==============================] - 9s 177us/step - loss: 0.3910 - acc: 0.8538 - val_loss: 6.7843 - val_acc: 0.1490\n",
      "Epoch 56/100\n",
      "50000/50000 [==============================] - 9s 187us/step - loss: 0.3943 - acc: 0.8527 - val_loss: 6.8520 - val_acc: 0.1483\n",
      "Epoch 57/100\n",
      "50000/50000 [==============================] - 9s 178us/step - loss: 0.3855 - acc: 0.8571 - val_loss: 6.9336 - val_acc: 0.1506\n",
      "Epoch 58/100\n",
      "50000/50000 [==============================] - 9s 184us/step - loss: 0.3848 - acc: 0.8560 - val_loss: 6.9356 - val_acc: 0.1459\n",
      "Epoch 59/100\n"
     ]
    },
    {
     "name": "stdout",
     "output_type": "stream",
     "text": [
      "50000/50000 [==============================] - 10s 194us/step - loss: 0.3871 - acc: 0.8561 - val_loss: 6.7909 - val_acc: 0.1481\n",
      "Epoch 60/100\n",
      "50000/50000 [==============================] - 10s 200us/step - loss: 0.3793 - acc: 0.8578 - val_loss: 6.7907 - val_acc: 0.1525\n",
      "Epoch 61/100\n",
      "50000/50000 [==============================] - 10s 203us/step - loss: 0.3699 - acc: 0.8600 - val_loss: 7.2553 - val_acc: 0.1510\n",
      "Epoch 62/100\n",
      "50000/50000 [==============================] - 10s 196us/step - loss: 0.3637 - acc: 0.8608 - val_loss: 7.0791 - val_acc: 0.1546\n",
      "Epoch 63/100\n",
      "50000/50000 [==============================] - 9s 189us/step - loss: 0.3626 - acc: 0.8615 - val_loss: 7.0585 - val_acc: 0.1509\n",
      "Epoch 64/100\n",
      "50000/50000 [==============================] - 9s 190us/step - loss: 0.3713 - acc: 0.8605 - val_loss: 7.2000 - val_acc: 0.1528\n",
      "Epoch 65/100\n",
      "50000/50000 [==============================] - 10s 190us/step - loss: 0.3782 - acc: 0.8569 - val_loss: 7.1080 - val_acc: 0.1535\n",
      "Epoch 66/100\n",
      "50000/50000 [==============================] - 9s 188us/step - loss: 0.3739 - acc: 0.8582 - val_loss: 7.0230 - val_acc: 0.1475\n",
      "Epoch 67/100\n",
      "50000/50000 [==============================] - 10s 191us/step - loss: 0.3761 - acc: 0.8567 - val_loss: 7.1266 - val_acc: 0.1505\n",
      "Epoch 68/100\n",
      "50000/50000 [==============================] - 9s 190us/step - loss: 0.3752 - acc: 0.8568 - val_loss: 6.8502 - val_acc: 0.1498\n",
      "Epoch 69/100\n",
      "50000/50000 [==============================] - 10s 193us/step - loss: 0.3726 - acc: 0.8576 - val_loss: 7.0264 - val_acc: 0.1486\n",
      "Epoch 70/100\n",
      "50000/50000 [==============================] - 10s 199us/step - loss: 0.3689 - acc: 0.8591 - val_loss: 6.8681 - val_acc: 0.1458\n",
      "Epoch 71/100\n",
      "50000/50000 [==============================] - 10s 191us/step - loss: 0.3798 - acc: 0.8553 - val_loss: 7.0735 - val_acc: 0.1500\n",
      "Epoch 72/100\n",
      "50000/50000 [==============================] - 10s 191us/step - loss: 0.3673 - acc: 0.8582 - val_loss: 7.1634 - val_acc: 0.1485\n",
      "Epoch 73/100\n",
      "50000/50000 [==============================] - 10s 195us/step - loss: 0.3626 - acc: 0.8610 - val_loss: 7.1441 - val_acc: 0.1500\n",
      "Epoch 74/100\n",
      "50000/50000 [==============================] - 9s 189us/step - loss: 0.3588 - acc: 0.8614 - val_loss: 6.9982 - val_acc: 0.1492\n",
      "Epoch 75/100\n",
      "50000/50000 [==============================] - 10s 191us/step - loss: 0.3587 - acc: 0.8626 - val_loss: 7.1114 - val_acc: 0.1513\n",
      "Epoch 76/100\n",
      "50000/50000 [==============================] - 10s 191us/step - loss: 0.3494 - acc: 0.8646 - val_loss: 7.5182 - val_acc: 0.1491\n",
      "Epoch 77/100\n",
      "50000/50000 [==============================] - 10s 196us/step - loss: 0.3522 - acc: 0.8627 - val_loss: 7.2681 - val_acc: 0.1524\n",
      "Epoch 78/100\n",
      "50000/50000 [==============================] - 10s 195us/step - loss: 0.3668 - acc: 0.8601 - val_loss: 7.1510 - val_acc: 0.1495\n",
      "Epoch 79/100\n",
      "50000/50000 [==============================] - 9s 190us/step - loss: 0.3605 - acc: 0.8603 - val_loss: 7.3650 - val_acc: 0.1480\n",
      "Epoch 80/100\n",
      "50000/50000 [==============================] - 9s 188us/step - loss: 0.3517 - acc: 0.8617 - val_loss: 7.2317 - val_acc: 0.1466\n",
      "Epoch 81/100\n",
      "50000/50000 [==============================] - 10s 191us/step - loss: 0.3588 - acc: 0.8609 - val_loss: 6.8423 - val_acc: 0.1474\n",
      "Epoch 82/100\n",
      "50000/50000 [==============================] - 9s 185us/step - loss: 0.3555 - acc: 0.8614 - val_loss: 7.3130 - val_acc: 0.1489\n",
      "Epoch 83/100\n",
      "50000/50000 [==============================] - 10s 190us/step - loss: 0.3575 - acc: 0.8604 - val_loss: 7.0537 - val_acc: 0.1440\n",
      "Epoch 84/100\n",
      "50000/50000 [==============================] - 10s 190us/step - loss: 0.3631 - acc: 0.8596 - val_loss: 7.2848 - val_acc: 0.1420\n",
      "Epoch 85/100\n",
      "50000/50000 [==============================] - 10s 191us/step - loss: 0.3558 - acc: 0.8615 - val_loss: 7.3728 - val_acc: 0.1452\n",
      "Epoch 86/100\n",
      "50000/50000 [==============================] - 9s 188us/step - loss: 0.3544 - acc: 0.8622 - val_loss: 7.6014 - val_acc: 0.1484\n",
      "Epoch 87/100\n",
      "50000/50000 [==============================] - 9s 189us/step - loss: 0.3487 - acc: 0.8635 - val_loss: 7.5854 - val_acc: 0.1466\n",
      "Epoch 88/100\n",
      "50000/50000 [==============================] - 9s 187us/step - loss: 0.3448 - acc: 0.8638 - val_loss: 7.1976 - val_acc: 0.1504\n",
      "Epoch 89/100\n",
      "50000/50000 [==============================] - 9s 188us/step - loss: 0.3456 - acc: 0.8652 - val_loss: 7.5433 - val_acc: 0.1480\n",
      "Epoch 90/100\n",
      "50000/50000 [==============================] - 9s 185us/step - loss: 0.3518 - acc: 0.8619 - val_loss: 7.3830 - val_acc: 0.1483\n",
      "Epoch 91/100\n",
      "50000/50000 [==============================] - 9s 187us/step - loss: 0.3528 - acc: 0.8617 - val_loss: 7.3736 - val_acc: 0.1489\n",
      "Epoch 92/100\n",
      "50000/50000 [==============================] - 9s 187us/step - loss: 0.3489 - acc: 0.8637 - val_loss: 7.4258 - val_acc: 0.1466\n",
      "Epoch 93/100\n",
      "50000/50000 [==============================] - 9s 186us/step - loss: 0.3455 - acc: 0.8634 - val_loss: 7.4398 - val_acc: 0.1497\n",
      "Epoch 94/100\n",
      "50000/50000 [==============================] - 9s 185us/step - loss: 0.3554 - acc: 0.8610 - val_loss: 7.2110 - val_acc: 0.1495\n",
      "Epoch 95/100\n",
      "50000/50000 [==============================] - 9s 185us/step - loss: 0.3475 - acc: 0.8624 - val_loss: 7.2388 - val_acc: 0.1445\n",
      "Epoch 96/100\n",
      "50000/50000 [==============================] - 10s 191us/step - loss: 0.3392 - acc: 0.8654 - val_loss: 7.4976 - val_acc: 0.1496\n",
      "Epoch 97/100\n",
      "50000/50000 [==============================] - 9s 186us/step - loss: 0.3366 - acc: 0.8654 - val_loss: 7.6528 - val_acc: 0.1469\n",
      "Epoch 98/100\n",
      "50000/50000 [==============================] - 9s 184us/step - loss: 0.3333 - acc: 0.8666 - val_loss: 7.5433 - val_acc: 0.1483\n",
      "Epoch 99/100\n",
      "50000/50000 [==============================] - 9s 186us/step - loss: 0.3312 - acc: 0.8666 - val_loss: 7.8622 - val_acc: 0.1500\n",
      "Epoch 100/100\n",
      "50000/50000 [==============================] - 9s 186us/step - loss: 0.3453 - acc: 0.8635 - val_loss: 7.4092 - val_acc: 0.1513\n"
     ]
    },
    {
     "data": {
      "text/plain": [
       "<keras.callbacks.History at 0x21358e3dba8>"
      ]
     },
     "execution_count": 29,
     "metadata": {},
     "output_type": "execute_result"
    }
   ],
   "source": [
    "model.fit(x_train, y_train, \n",
    "          epochs=EPOCHS, \n",
    "          batch_size=BATCH_SIZE, \n",
    "          validation_data=(x_test, y_test), \n",
    "          shuffle=True)"
   ]
  },
  {
   "cell_type": "code",
   "execution_count": 31,
   "metadata": {},
   "outputs": [
    {
     "data": {
      "image/png": "[encoded data removed]",
      "text/plain": [
       "<Figure size 432x288 with 1 Axes>"
      ]
     },
     "metadata": {},
     "output_type": "display_data"
    },
    {
     "data": {
      "image/png": "[encoded data removed]",
      "text/plain": [
       "<Figure size 432x288 with 1 Axes>"
      ]
     },
     "metadata": {},
     "output_type": "display_data"
    }
   ],
   "source": [
    "import matplotlib.pyplot as plt\n",
    "\n",
    "\n",
    "train_loss = model.history.history[\"loss\"]\n",
    "valid_loss = model.history.history[\"val_loss\"]\n",
    "\n",
    "train_acc = model.history.history[\"acc\"]\n",
    "valid_acc = model.history.history[\"val_acc\"]\n",
    "\n",
    "plt.plot(range(len(train_loss)), train_loss, label=\"train loss\")\n",
    "plt.plot(range(len(valid_loss)), valid_loss, label=\"valid loss\")\n",
    "plt.legend()\n",
    "plt.title(\"Loss\")\n",
    "plt.show()\n",
    "\n",
    "plt.plot(range(len(train_acc)), train_acc, label=\"train accuracy\")\n",
    "plt.plot(range(len(valid_acc)), valid_acc, label=\"valid accuracy\")\n",
    "plt.legend()\n",
    "plt.title(\"Accuracy\")\n",
    "plt.show()"
   ]
  },
  {
   "cell_type": "code",
   "execution_count": null,
   "metadata": {},
   "outputs": [],
   "source": [
    "#validation loss從一開始就非常低 也就是從一開始就overfitt了"
   ]
  }
 ],
 "metadata": {
  "kernelspec": {
   "display_name": "Python 3",
   "language": "python",
   "name": "python3"
  },
  "language_info": {
   "codemirror_mode": {
    "name": "ipython",
    "version": 3
   },
   "file_extension": ".py",
   "mimetype": "text/x-python",
   "name": "python",
   "nbconvert_exporter": "python",
   "pygments_lexer": "ipython3",
   "version": "3.6.5"
  }
 },
 "nbformat": 4,
 "nbformat_minor": 2
}
