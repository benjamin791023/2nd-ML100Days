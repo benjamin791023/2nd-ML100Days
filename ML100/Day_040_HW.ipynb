{
 "cells": [
  {
   "cell_type": "markdown",
   "metadata": {},
   "source": [
    "## [作業重點]\n",
    "使用 Sklearn 中的 Lasso, Ridge 模型，來訓練各種資料集，務必了解送進去模型訓練的**資料型態**為何，也請了解模型中各項參數的意義。\n",
    "\n",
    "機器學習的模型非常多種，但要訓練的資料多半有固定的格式，確保你了解訓練資料的格式為何，這樣在應用新模型時，就能夠最快的上手開始訓練！"
   ]
  },
  {
   "cell_type": "markdown",
   "metadata": {},
   "source": [
    "## 練習時間\n",
    "試著使用 sklearn datasets 的其他資料集 (boston, ...)，來訓練自己的線性迴歸模型，並加上適當的正則話來觀察訓練情形。"
   ]
  },
  {
   "cell_type": "code",
   "execution_count": 108,
   "metadata": {},
   "outputs": [],
   "source": [
    "import numpy as np\n",
    "import pandas as pd\n",
    "from sklearn import datasets\n",
    "from sklearn.model_selection import train_test_split\n",
    "from sklearn import linear_model\n",
    "from sklearn.metrics import roc_curve\n",
    "from sklearn.preprocessing import MinMaxScaler\n",
    "from sklearn.metrics import confusion_matrix\n",
    "import matplotlib.pyplot as plt\n",
    "wine = datasets.load_wine()\n",
    "dwine = wine.data\n",
    "data = pd.DataFrame(dwine)\n",
    "scaler = MinMaxScaler()\n",
    "scaler.fit(data)\n",
    "data_s = scaler.transform(data)\n",
    "x_train, x_test, y_train, y_test = train_test_split(data_s, wine.target, test_size=0.2, random_state=4)\n",
    "data = pd.DataFrame(x_train)"
   ]
  },
  {
   "cell_type": "code",
   "execution_count": 109,
   "metadata": {},
   "outputs": [
    {
     "name": "stdout",
     "output_type": "stream",
     "text": [
      "               0           1           2           3           4           5   \\\n",
      "count  142.000000  142.000000  142.000000  142.000000  142.000000  142.000000   \n",
      "mean     0.518643    0.308398    0.539241    0.463373    0.328230    0.466586   \n",
      "std      0.212817    0.221420    0.152980    0.173754    0.155395    0.211802   \n",
      "min      0.000000    0.029644    0.000000    0.000000    0.000000    0.000000   \n",
      "25%      0.352632    0.170455    0.449198    0.340206    0.198370    0.285345   \n",
      "50%      0.531579    0.211462    0.534759    0.458763    0.304348    0.491379   \n",
      "75%      0.692763    0.443182    0.649733    0.561856    0.413043    0.627586   \n",
      "max      1.000000    1.000000    1.000000    1.000000    1.000000    1.000000   \n",
      "\n",
      "               6           7           8           9           10          11  \\\n",
      "count  142.000000  142.000000  142.000000  142.000000  142.000000  142.000000   \n",
      "mean     0.370327    0.426521    0.377682    0.317923    0.392912    0.495847   \n",
      "std      0.207233    0.228490    0.181849    0.198632    0.192044    0.264068   \n",
      "min      0.000000    0.018868    0.000000    0.000000    0.000000    0.000000   \n",
      "25%      0.199367    0.250000    0.264984    0.168089    0.254065    0.244505   \n",
      "50%      0.397679    0.367925    0.364353    0.286689    0.406504    0.558608   \n",
      "75%      0.541667    0.566038    0.491325    0.418302    0.520325    0.695971   \n",
      "max      1.000000    0.943396    1.000000    1.000000    1.000000    1.000000   \n",
      "\n",
      "               12  \n",
      "count  142.000000  \n",
      "mean     0.332357  \n",
      "std      0.217617  \n",
      "min      0.000000  \n",
      "25%      0.165478  \n",
      "50%      0.276748  \n",
      "75%      0.501605  \n",
      "max      0.882311  \n"
     ]
    },
    {
     "data": {
      "text/plain": [
       "<matplotlib.axes._subplots.AxesSubplot at 0x22b4aa157f0>"
      ]
     },
     "execution_count": 109,
     "metadata": {},
     "output_type": "execute_result"
    },
    {
     "data": {
      "image/png": "[encoded data removed]",
      "text/plain": [
       "<Figure size 432x288 with 2 Axes>"
      ]
     },
     "metadata": {},
     "output_type": "display_data"
    }
   ],
   "source": [
    "import seaborn as sns\n",
    "print(data.describe())\n",
    "cof = data.corr()\n",
    "sns.heatmap(cof)"
   ]
  },
  {
   "cell_type": "code",
   "execution_count": 112,
   "metadata": {},
   "outputs": [
    {
     "name": "stdout",
     "output_type": "stream",
     "text": [
      "Coefficient = [[  7.89251942   2.36147353   7.92364446 -10.86627768   0.87920192\n",
      "    0.41692873   5.40138874  -2.20817348  -2.26906223  -1.61816864\n",
      "   -2.180614     6.08403884  12.14887228]\n",
      " [ -9.08927249  -4.65293978  -9.13881178   5.32095898  -0.79952599\n",
      "    0.24611098   2.57566676   3.35876323   2.25687549 -13.21494964\n",
      "    7.70596427  -0.12047925 -13.34206611]\n",
      " [  3.62056291   3.23798736   3.65205557   3.75068692   2.7430222\n",
      "   -2.41217588  -9.3475988   -1.12941008  -4.97740587   8.23712498\n",
      "   -7.98752593  -7.80290292   0.69015057]]\n"
     ]
    },
    {
     "name": "stderr",
     "output_type": "stream",
     "text": [
      "C:\\Users\\benja\\Anaconda3\\lib\\site-packages\\sklearn\\linear_model\\logistic.py:469: FutureWarning: Default multi_class will be changed to 'auto' in 0.22. Specify the multi_class option to silence this warning.\n",
      "  \"this warning.\", FutureWarning)\n",
      "C:\\Users\\benja\\Anaconda3\\lib\\site-packages\\sklearn\\linear_model\\sag.py:337: ConvergenceWarning: The max_iter was reached which means the coef_ did not converge\n",
      "  \"the coef_ did not converge\", ConvergenceWarning)\n",
      "C:\\Users\\benja\\Anaconda3\\lib\\site-packages\\sklearn\\linear_model\\sag.py:337: ConvergenceWarning: The max_iter was reached which means the coef_ did not converge\n",
      "  \"the coef_ did not converge\", ConvergenceWarning)\n",
      "C:\\Users\\benja\\Anaconda3\\lib\\site-packages\\sklearn\\linear_model\\sag.py:337: ConvergenceWarning: The max_iter was reached which means the coef_ did not converge\n",
      "  \"the coef_ did not converge\", ConvergenceWarning)\n"
     ]
    }
   ],
   "source": [
    "reg = linear_model.LogisticRegression(penalty='none', solver='saga')\n",
    "reg.fit(x_train, y_train)\n",
    "y_pred = reg.predict(x_test)\n",
    "print('Coefficient = {}'.format(reg.coef_))"
   ]
  },
  {
   "cell_type": "code",
   "execution_count": 117,
   "metadata": {},
   "outputs": [],
   "source": [
    "from sklearn.metrics import accuracy_score"
   ]
  },
  {
   "cell_type": "code",
   "execution_count": 122,
   "metadata": {},
   "outputs": [
    {
     "name": "stdout",
     "output_type": "stream",
     "text": [
      "confusion matrix = [[10  0  0]\n",
      " [ 0 13  0]\n",
      " [ 0  0 13]]\n",
      "accuracy =1.0\n"
     ]
    }
   ],
   "source": [
    "matrix = confusion_matrix(y_test, y_pred)\n",
    "print('confusion matrix = {}'.format(matrix))\n",
    "ac = accuracy_score(y_test, y_pred)\n",
    "print('accuracy ={}'.format(ac))"
   ]
  },
  {
   "cell_type": "code",
   "execution_count": 125,
   "metadata": {},
   "outputs": [
    {
     "name": "stdout",
     "output_type": "stream",
     "text": [
      "Coefficient = [[ 1.81017778  0.          0.         -3.00535318  0.          0.\n",
      "   1.24126375 -0.26337793  0.          0.          0.          2.46661894\n",
      "   7.83489235]\n",
      " [-3.97122002 -0.55418931  0.          0.          0.          0.\n",
      "   0.          0.          0.         -4.82209226  3.89847153  0.25266084\n",
      "  -5.97610246]\n",
      " [ 0.          1.72751457  0.          0.          0.          0.\n",
      "  -4.31663656  0.          0.          4.53781927 -1.03250981 -4.6382356\n",
      "   0.        ]]\n"
     ]
    },
    {
     "name": "stderr",
     "output_type": "stream",
     "text": [
      "C:\\Users\\benja\\Anaconda3\\lib\\site-packages\\sklearn\\linear_model\\logistic.py:432: FutureWarning: Default solver will be changed to 'lbfgs' in 0.22. Specify a solver to silence this warning.\n",
      "  FutureWarning)\n",
      "C:\\Users\\benja\\Anaconda3\\lib\\site-packages\\sklearn\\linear_model\\logistic.py:1506: UserWarning: l1_ratio parameter is only used when penalty is 'elasticnet'. Got (penalty=l1)\n",
      "  \"(penalty={})\".format(self.penalty))\n",
      "C:\\Users\\benja\\Anaconda3\\lib\\site-packages\\sklearn\\linear_model\\logistic.py:469: FutureWarning: Default multi_class will be changed to 'auto' in 0.22. Specify the multi_class option to silence this warning.\n",
      "  \"this warning.\", FutureWarning)\n"
     ]
    }
   ],
   "source": [
    "lasso = linear_model.LogisticRegression(penalty='l1', l1_ratio=0.1)\n",
    "lasso.fit(x_train, y_train)\n",
    "y_pred = lasso.predict(x_test)\n",
    "print('Coefficient = {}'.format(lasso.coef_))"
   ]
  },
  {
   "cell_type": "code",
   "execution_count": 126,
   "metadata": {},
   "outputs": [
    {
     "name": "stdout",
     "output_type": "stream",
     "text": [
      "confusion matrix = [[10  0  0]\n",
      " [ 0 13  0]\n",
      " [ 0  0 13]]\n",
      "accuracy =1.0\n"
     ]
    }
   ],
   "source": [
    "matrix = confusion_matrix(y_test, y_pred)\n",
    "print('confusion matrix = {}'.format(matrix))\n",
    "ac = accuracy_score(y_test, y_pred)\n",
    "print('accuracy ={}'.format(ac))"
   ]
  },
  {
   "cell_type": "code",
   "execution_count": 127,
   "metadata": {},
   "outputs": [
    {
     "name": "stdout",
     "output_type": "stream",
     "text": [
      "[[ 2.31744841  0.09557215  0.96187783 -1.62727117  0.60717129  1.05531835\n",
      "   1.53096861 -0.9228475   0.29424354  0.41932291  0.50453391  1.77803766\n",
      "   3.08475259]\n",
      " [-2.94453899 -1.26173783 -1.35370643  0.81320251 -0.74257843 -0.05595168\n",
      "   0.28349844  0.39778899  0.31829289 -2.66797103  1.33661591  0.58391643\n",
      "  -2.77070718]\n",
      " [ 0.71533174  1.25488381  0.48739108  0.79635631  0.28232525 -1.21533515\n",
      "  -1.95613308  0.54405777 -0.82293511  2.0219108  -1.93017357 -2.5239088\n",
      "  -0.28833771]]\n"
     ]
    },
    {
     "name": "stderr",
     "output_type": "stream",
     "text": [
      "C:\\Users\\benja\\Anaconda3\\lib\\site-packages\\sklearn\\linear_model\\logistic.py:469: FutureWarning: Default multi_class will be changed to 'auto' in 0.22. Specify the multi_class option to silence this warning.\n",
      "  \"this warning.\", FutureWarning)\n"
     ]
    }
   ],
   "source": [
    "l2 = linear_model.LogisticRegression(penalty='l2', solver='saga')\n",
    "l2.fit(x_train, y_train)\n",
    "y_pred = l2.predict(x_test)\n",
    "print(l2.coef_)"
   ]
  },
  {
   "cell_type": "code",
   "execution_count": 128,
   "metadata": {},
   "outputs": [
    {
     "name": "stdout",
     "output_type": "stream",
     "text": [
      "confusion matrix = [[10  0  0]\n",
      " [ 0 13  0]\n",
      " [ 0  0 13]]\n",
      "accuracy =1.0\n"
     ]
    }
   ],
   "source": [
    "matrix = confusion_matrix(y_test, y_pred)\n",
    "print('confusion matrix = {}'.format(matrix))\n",
    "ac = accuracy_score(y_test, y_pred)\n",
    "print('accuracy ={}'.format(ac))"
   ]
  },
  {
   "cell_type": "markdown",
   "metadata": {},
   "source": [
    "#Boston Data"
   ]
  },
  {
   "cell_type": "code",
   "execution_count": 93,
   "metadata": {},
   "outputs": [],
   "source": [
    "from scipy.stats import boxcox\n",
    "from sklearn.metrics import mean_absolute_error"
   ]
  },
  {
   "cell_type": "code",
   "execution_count": 87,
   "metadata": {},
   "outputs": [],
   "source": [
    "boston = datasets.load_boston()\n",
    "dbos = boston.data\n",
    "data = pd.DataFrame(dbos)\n",
    "data[1][data[1]<=0] = 0.001\n",
    "data[1] = boxcox(data[1], lmbda=0.15)\n",
    "scaler = MinMaxScaler()\n",
    "scaler.fit(data)\n",
    "data_s = scaler.transform(data)\n",
    "x_train, x_test, y_train, y_test = train_test_split(data_s, boston.target, test_size=0.2, random_state=4)"
   ]
  },
  {
   "cell_type": "code",
   "execution_count": 88,
   "metadata": {},
   "outputs": [
    {
     "data": {
      "image/png": "[encoded data removed]",
      "text/plain": [
       "<Figure size 432x288 with 2 Axes>"
      ]
     },
     "metadata": {},
     "output_type": "display_data"
    },
    {
     "data": {
      "image/png": "[encoded data removed]",
      "text/plain": [
       "<Figure size 432x288 with 1 Axes>"
      ]
     },
     "metadata": {},
     "output_type": "display_data"
    }
   ],
   "source": [
    "data = pd.DataFrame(x_train)\n",
    "cor = data.corr()\n",
    "ax = plt.subplots()\n",
    "ax = sns.heatmap(cor)\n",
    "ax2 = plt.subplots()\n",
    "ax2 = sns.violinplot(data=data.loc[:,[0,9]])"
   ]
  },
  {
   "cell_type": "code",
   "execution_count": 97,
   "metadata": {},
   "outputs": [
    {
     "name": "stdout",
     "output_type": "stream",
     "text": [
      "Coefficient = [ -9.73944502   1.89984478  -0.12597573   3.32469566  -8.15687726\n",
      "  20.67817861  -1.26431976 -15.79392358   6.01666908  -5.73077273\n",
      "  -8.77984886   3.42288401 -16.55612469]\n",
      "MAE =3.3822873693684734\n"
     ]
    }
   ],
   "source": [
    "reg = linear_model.LinearRegression()\n",
    "reg.fit(x_train, y_train)\n",
    "print('Coefficient = {}'.format(reg.coef_))\n",
    "y_pred = reg.predict(x_test)\n",
    "print('MAE ={}'.format(mean_absolute_error(y_pred, y_test)))"
   ]
  },
  {
   "cell_type": "code",
   "execution_count": 103,
   "metadata": {},
   "outputs": [
    {
     "name": "stdout",
     "output_type": "stream",
     "text": [
      "Coefficient = [ -0.           0.          -0.           2.2157524   -0.08279623\n",
      "  19.16210126  -0.          -1.45834041   0.          -1.89193522\n",
      "  -7.03185552   1.72986266 -17.52145707]\n",
      "MAE = 3.5125613813164454\n"
     ]
    }
   ],
   "source": [
    "L1 = linear_model.Lasso(alpha=0.1)\n",
    "L1.fit(x_train, y_train)\n",
    "print('Coefficient = {}'.format(L1.coef_))\n",
    "y_pred = L1.predict(x_test)\n",
    "print('MAE = {}'.format(mean_absolute_error(y_pred, y_test)))"
   ]
  },
  {
   "cell_type": "code",
   "execution_count": 106,
   "metadata": {},
   "outputs": [
    {
     "name": "stdout",
     "output_type": "stream",
     "text": [
      "Coefficient = [ -6.52697354   1.52770891  -0.93690173   3.52749098  -6.36330379\n",
      "  18.71336651  -0.92286511 -12.58207917   4.61543005  -4.82545523\n",
      "  -8.5313525    3.33711308 -16.35609631]\n",
      "MAE = 3.3762937471717644\n"
     ]
    }
   ],
   "source": [
    "ridge = linear_model.Ridge()\n",
    "ridge.fit(x_train, y_train)\n",
    "print('Coefficient = {}'.format(ridge.coef_))\n",
    "y_pred = ridge.predict(x_test)\n",
    "print('MAE = {}'.format(mean_absolute_error(y_pred, y_test)))"
   ]
  },
  {
   "cell_type": "code",
   "execution_count": null,
   "metadata": {},
   "outputs": [],
   "source": []
  }
 ],
 "metadata": {
  "kernelspec": {
   "display_name": "Python 3",
   "language": "python",
   "name": "python3"
  },
  "language_info": {
   "codemirror_mode": {
    "name": "ipython",
    "version": 3
   },
   "file_extension": ".py",
   "mimetype": "text/x-python",
   "name": "python",
   "nbconvert_exporter": "python",
   "pygments_lexer": "ipython3",
   "version": "3.6.5"
  }
 },
 "nbformat": 4,
 "nbformat_minor": 2
}
