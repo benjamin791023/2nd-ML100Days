{
 "cells": [
  {
   "cell_type": "markdown",
   "metadata": {},
   "source": [
    "## 範例重點\n",
    "### 學習在模型開始前檢查各個環節\n",
    "1. 是否有 GPU 資源\n",
    "2. 將前處理轉為函式，統一處理訓練、驗證與測試集\n",
    "3. 將超參數變數化，易於重複使用函式、模型等"
   ]
  },
  {
   "cell_type": "code",
   "execution_count": null,
   "metadata": {},
   "outputs": [],
   "source": [
    "## 確認硬體資源 (如果你是在 Linux, 若是在 Windows, 請參考 https://blog.csdn.net/idwtwt/article/details/78017565)\n",
    "!nvidia-smi"
   ]
  },
  {
   "cell_type": "code",
   "execution_count": 1,
   "metadata": {},
   "outputs": [
    {
     "name": "stderr",
     "output_type": "stream",
     "text": [
      "C:\\Users\\benja\\Anaconda3\\lib\\site-packages\\h5py\\__init__.py:36: FutureWarning: Conversion of the second argument of issubdtype from `float` to `np.floating` is deprecated. In future, it will be treated as `np.float64 == np.dtype(float).type`.\n",
      "  from ._conv import register_converters as _register_converters\n",
      "Using TensorFlow backend.\n"
     ]
    }
   ],
   "source": [
    "import os\n",
    "import keras\n",
    "\n",
    "# 本範例不需使用 GPU, 將 GPU 設定為 \"無\"\n",
    "os.environ[\"CUDA_VISIBLE_DEVICES\"] = \"\""
   ]
  },
  {
   "cell_type": "code",
   "execution_count": 2,
   "metadata": {},
   "outputs": [],
   "source": [
    "# 從 Keras 的內建功能中，取得 train 與 test 資料集\n",
    "train, test = keras.datasets.cifar10.load_data()"
   ]
  },
  {
   "cell_type": "code",
   "execution_count": 3,
   "metadata": {},
   "outputs": [],
   "source": [
    "## 資料前處理\n",
    "def preproc_x(x, flatten=True):\n",
    "    x = x / 255.\n",
    "    if flatten:\n",
    "        x = x.reshape((len(x), -1))\n",
    "    return x\n",
    "\n",
    "def preproc_y(y, num_classes=10):\n",
    "    if y.shape[-1] == 1:\n",
    "        y = keras.utils.to_categorical(y, num_classes)\n",
    "    return y    "
   ]
  },
  {
   "cell_type": "code",
   "execution_count": 4,
   "metadata": {},
   "outputs": [],
   "source": [
    "x_train, y_train = train\n",
    "x_test, y_test = test\n",
    "\n",
    "# 資料前處理 - X 標準化\n",
    "x_train = preproc_x(x_train)\n",
    "x_test = preproc_x(x_test)\n",
    "\n",
    "# 資料前處理 -Y 轉成 onehot\n",
    "y_train = preproc_y(y_train)\n",
    "y_test = preproc_y(y_test)"
   ]
  },
  {
   "cell_type": "code",
   "execution_count": 5,
   "metadata": {},
   "outputs": [],
   "source": [
    "def build_mlp(input_shape, output_units=10, num_neurons=[512, 256, 128]):\n",
    "    input_layer = keras.layers.Input(input_shape)\n",
    "    \n",
    "    for i, n_units in enumerate(num_neurons):\n",
    "        if i == 0:\n",
    "            x = keras.layers.Dense(units=n_units, activation=\"relu\", name=\"hidden_layer\"+str(i+1))(input_layer)\n",
    "        else:\n",
    "            x = keras.layers.Dense(units=n_units, activation=\"relu\", name=\"hidden_layer\"+str(i+1))(x)\n",
    "    \n",
    "    out = keras.layers.Dense(units=output_units, activation=\"softmax\", name=\"output\")(x)\n",
    "    \n",
    "    model = keras.models.Model(inputs=[input_layer], outputs=[out])\n",
    "    return model"
   ]
  },
  {
   "cell_type": "code",
   "execution_count": 6,
   "metadata": {},
   "outputs": [
    {
     "name": "stdout",
     "output_type": "stream",
     "text": [
      "_________________________________________________________________\n",
      "Layer (type)                 Output Shape              Param #   \n",
      "=================================================================\n",
      "input_1 (InputLayer)         (None, 3072)              0         \n",
      "_________________________________________________________________\n",
      "hidden_layer1 (Dense)        (None, 512)               1573376   \n",
      "_________________________________________________________________\n",
      "hidden_layer2 (Dense)        (None, 256)               131328    \n",
      "_________________________________________________________________\n",
      "hidden_layer3 (Dense)        (None, 128)               32896     \n",
      "_________________________________________________________________\n",
      "output (Dense)               (None, 10)                1290      \n",
      "=================================================================\n",
      "Total params: 1,738,890\n",
      "Trainable params: 1,738,890\n",
      "Non-trainable params: 0\n",
      "_________________________________________________________________\n"
     ]
    }
   ],
   "source": [
    "model = build_mlp(input_shape=x_train.shape[1:])\n",
    "model.summary()"
   ]
  },
  {
   "cell_type": "code",
   "execution_count": 7,
   "metadata": {},
   "outputs": [],
   "source": [
    "## 超參數設定\n",
    "LEARNING_RATE = 0.001\n",
    "EPOCHS = 100\n",
    "BATCH_SIZE = 256"
   ]
  },
  {
   "cell_type": "code",
   "execution_count": 8,
   "metadata": {},
   "outputs": [],
   "source": [
    "optimizer = keras.optimizers.Adam(lr=LEARNING_RATE)\n",
    "model.compile(loss=\"categorical_crossentropy\", metrics=[\"accuracy\"], optimizer=optimizer)"
   ]
  },
  {
   "cell_type": "code",
   "execution_count": 9,
   "metadata": {},
   "outputs": [
    {
     "name": "stdout",
     "output_type": "stream",
     "text": [
      "Train on 50000 samples, validate on 10000 samples\n",
      "Epoch 1/100\n",
      "50000/50000 [==============================] - 27s 535us/step - loss: 1.9485 - acc: 0.2980 - val_loss: 1.7786 - val_acc: 0.3682\n",
      "Epoch 2/100\n",
      "50000/50000 [==============================] - 26s 526us/step - loss: 1.7017 - acc: 0.3917 - val_loss: 1.6966 - val_acc: 0.4002\n",
      "Epoch 3/100\n",
      "50000/50000 [==============================] - 28s 554us/step - loss: 1.6170 - acc: 0.4225 - val_loss: 1.5852 - val_acc: 0.4269\n",
      "Epoch 4/100\n",
      "50000/50000 [==============================] - 25s 498us/step - loss: 1.5535 - acc: 0.4470 - val_loss: 1.5525 - val_acc: 0.4462\n",
      "Epoch 5/100\n",
      "50000/50000 [==============================] - 27s 538us/step - loss: 1.5056 - acc: 0.4630 - val_loss: 1.5473 - val_acc: 0.4502\n",
      "Epoch 6/100\n",
      "50000/50000 [==============================] - 27s 544us/step - loss: 1.4720 - acc: 0.4756 - val_loss: 1.4795 - val_acc: 0.4755\n",
      "Epoch 7/100\n",
      "50000/50000 [==============================] - 27s 541us/step - loss: 1.4333 - acc: 0.4911 - val_loss: 1.4551 - val_acc: 0.4816\n",
      "Epoch 8/100\n",
      "50000/50000 [==============================] - 37s 735us/step - loss: 1.4086 - acc: 0.4975 - val_loss: 1.4509 - val_acc: 0.4923\n",
      "Epoch 9/100\n",
      "50000/50000 [==============================] - 30s 602us/step - loss: 1.3881 - acc: 0.5062 - val_loss: 1.4548 - val_acc: 0.4747\n",
      "Epoch 10/100\n",
      "50000/50000 [==============================] - 28s 564us/step - loss: 1.3620 - acc: 0.5148 - val_loss: 1.4259 - val_acc: 0.4917\n",
      "Epoch 11/100\n",
      "50000/50000 [==============================] - 26s 529us/step - loss: 1.3302 - acc: 0.5269 - val_loss: 1.4077 - val_acc: 0.4980\n",
      "Epoch 12/100\n",
      "50000/50000 [==============================] - 53s 1ms/step - loss: 1.3116 - acc: 0.5344 - val_loss: 1.4095 - val_acc: 0.4949\n",
      "Epoch 13/100\n",
      "50000/50000 [==============================] - 28s 562us/step - loss: 1.2862 - acc: 0.5422 - val_loss: 1.4177 - val_acc: 0.4979\n",
      "Epoch 14/100\n",
      "50000/50000 [==============================] - 24s 471us/step - loss: 1.2721 - acc: 0.5486 - val_loss: 1.4080 - val_acc: 0.5058\n",
      "Epoch 15/100\n",
      "50000/50000 [==============================] - 18s 370us/step - loss: 1.2469 - acc: 0.5550 - val_loss: 1.3896 - val_acc: 0.5130\n",
      "Epoch 16/100\n",
      "50000/50000 [==============================] - 18s 357us/step - loss: 1.2279 - acc: 0.5645 - val_loss: 1.3706 - val_acc: 0.5201\n",
      "Epoch 17/100\n",
      "50000/50000 [==============================] - 17s 342us/step - loss: 1.1975 - acc: 0.5714 - val_loss: 1.3925 - val_acc: 0.5128\n",
      "Epoch 18/100\n",
      "50000/50000 [==============================] - 18s 364us/step - loss: 1.1836 - acc: 0.5803 - val_loss: 1.4013 - val_acc: 0.5082\n",
      "Epoch 19/100\n",
      "50000/50000 [==============================] - 19s 377us/step - loss: 1.1580 - acc: 0.5903 - val_loss: 1.3940 - val_acc: 0.5148\n",
      "Epoch 20/100\n",
      "50000/50000 [==============================] - 18s 351us/step - loss: 1.1340 - acc: 0.5958 - val_loss: 1.3794 - val_acc: 0.5218\n",
      "Epoch 21/100\n",
      "50000/50000 [==============================] - 18s 351us/step - loss: 1.1151 - acc: 0.6036 - val_loss: 1.4100 - val_acc: 0.5113\n",
      "Epoch 22/100\n",
      "50000/50000 [==============================] - 21s 412us/step - loss: 1.1135 - acc: 0.6043 - val_loss: 1.4364 - val_acc: 0.5027\n",
      "Epoch 23/100\n",
      "50000/50000 [==============================] - 17s 346us/step - loss: 1.0860 - acc: 0.6151 - val_loss: 1.3814 - val_acc: 0.5246\n",
      "Epoch 24/100\n",
      "50000/50000 [==============================] - 17s 334us/step - loss: 1.0689 - acc: 0.6199 - val_loss: 1.4385 - val_acc: 0.5136\n",
      "Epoch 25/100\n",
      "50000/50000 [==============================] - 17s 339us/step - loss: 1.0548 - acc: 0.6218 - val_loss: 1.3817 - val_acc: 0.5246\n",
      "Epoch 26/100\n",
      "50000/50000 [==============================] - 16s 330us/step - loss: 1.0163 - acc: 0.6387 - val_loss: 1.4251 - val_acc: 0.5176\n",
      "Epoch 27/100\n",
      "50000/50000 [==============================] - 16s 329us/step - loss: 1.0143 - acc: 0.6382 - val_loss: 1.4287 - val_acc: 0.5176\n",
      "Epoch 28/100\n",
      "50000/50000 [==============================] - 17s 338us/step - loss: 0.9880 - acc: 0.6484 - val_loss: 1.4283 - val_acc: 0.5206\n",
      "Epoch 29/100\n",
      "50000/50000 [==============================] - 17s 337us/step - loss: 0.9797 - acc: 0.6509 - val_loss: 1.4689 - val_acc: 0.5125\n",
      "Epoch 30/100\n",
      "50000/50000 [==============================] - 17s 331us/step - loss: 0.9675 - acc: 0.6545 - val_loss: 1.4333 - val_acc: 0.5175\n",
      "Epoch 31/100\n",
      "50000/50000 [==============================] - 17s 338us/step - loss: 0.9437 - acc: 0.6644 - val_loss: 1.4349 - val_acc: 0.5238\n",
      "Epoch 32/100\n",
      "50000/50000 [==============================] - 16s 328us/step - loss: 0.9191 - acc: 0.6718 - val_loss: 1.4637 - val_acc: 0.5226\n",
      "Epoch 33/100\n",
      "50000/50000 [==============================] - 17s 338us/step - loss: 0.9076 - acc: 0.6768 - val_loss: 1.4652 - val_acc: 0.5220\n",
      "Epoch 34/100\n",
      "50000/50000 [==============================] - 18s 351us/step - loss: 0.8986 - acc: 0.6794 - val_loss: 1.4928 - val_acc: 0.5209\n",
      "Epoch 35/100\n",
      "50000/50000 [==============================] - 17s 337us/step - loss: 0.8741 - acc: 0.6872 - val_loss: 1.4896 - val_acc: 0.5239\n",
      "Epoch 36/100\n",
      "50000/50000 [==============================] - 17s 337us/step - loss: 0.8649 - acc: 0.6918 - val_loss: 1.5064 - val_acc: 0.5224\n",
      "Epoch 37/100\n",
      "50000/50000 [==============================] - 17s 344us/step - loss: 0.8478 - acc: 0.6980 - val_loss: 1.5272 - val_acc: 0.5155\n",
      "Epoch 38/100\n",
      "50000/50000 [==============================] - 17s 336us/step - loss: 0.8249 - acc: 0.7053 - val_loss: 1.5161 - val_acc: 0.5189\n",
      "Epoch 39/100\n",
      "50000/50000 [==============================] - 17s 334us/step - loss: 0.8092 - acc: 0.7112 - val_loss: 1.5095 - val_acc: 0.5268\n",
      "Epoch 40/100\n",
      "50000/50000 [==============================] - 17s 335us/step - loss: 0.7999 - acc: 0.7155 - val_loss: 1.5611 - val_acc: 0.5171\n",
      "Epoch 41/100\n",
      "50000/50000 [==============================] - 17s 335us/step - loss: 0.7845 - acc: 0.7198 - val_loss: 1.5735 - val_acc: 0.5210\n",
      "Epoch 42/100\n",
      "50000/50000 [==============================] - 17s 337us/step - loss: 0.7738 - acc: 0.7223 - val_loss: 1.6210 - val_acc: 0.5110\n",
      "Epoch 43/100\n",
      "50000/50000 [==============================] - 17s 332us/step - loss: 0.7507 - acc: 0.7333 - val_loss: 1.6261 - val_acc: 0.5234\n",
      "Epoch 44/100\n",
      "50000/50000 [==============================] - 17s 333us/step - loss: 0.7378 - acc: 0.7370 - val_loss: 1.6778 - val_acc: 0.5090\n",
      "Epoch 45/100\n",
      "50000/50000 [==============================] - 17s 336us/step - loss: 0.7309 - acc: 0.7393 - val_loss: 1.6979 - val_acc: 0.5103\n",
      "Epoch 46/100\n",
      "50000/50000 [==============================] - 17s 337us/step - loss: 0.7050 - acc: 0.7497 - val_loss: 1.7106 - val_acc: 0.5149\n",
      "Epoch 47/100\n",
      "50000/50000 [==============================] - 17s 334us/step - loss: 0.7046 - acc: 0.7484 - val_loss: 1.6957 - val_acc: 0.5137\n",
      "Epoch 48/100\n",
      "50000/50000 [==============================] - 17s 335us/step - loss: 0.6844 - acc: 0.7576 - val_loss: 1.7206 - val_acc: 0.5108\n",
      "Epoch 49/100\n",
      "50000/50000 [==============================] - 17s 332us/step - loss: 0.6834 - acc: 0.7561 - val_loss: 1.7254 - val_acc: 0.5160\n",
      "Epoch 50/100\n",
      "50000/50000 [==============================] - 17s 333us/step - loss: 0.6670 - acc: 0.7633 - val_loss: 1.7746 - val_acc: 0.5188\n",
      "Epoch 51/100\n",
      "50000/50000 [==============================] - 17s 336us/step - loss: 0.6457 - acc: 0.7684 - val_loss: 1.7846 - val_acc: 0.5148\n",
      "Epoch 52/100\n",
      "50000/50000 [==============================] - 17s 331us/step - loss: 0.6425 - acc: 0.7706 - val_loss: 1.7860 - val_acc: 0.5241\n",
      "Epoch 53/100\n",
      "50000/50000 [==============================] - 17s 335us/step - loss: 0.6213 - acc: 0.7778 - val_loss: 1.8426 - val_acc: 0.5148\n",
      "Epoch 54/100\n",
      "50000/50000 [==============================] - 17s 332us/step - loss: 0.6123 - acc: 0.7812 - val_loss: 1.8687 - val_acc: 0.5098\n",
      "Epoch 55/100\n",
      "50000/50000 [==============================] - 17s 335us/step - loss: 0.6100 - acc: 0.7830 - val_loss: 1.8909 - val_acc: 0.5082\n",
      "Epoch 56/100\n",
      "50000/50000 [==============================] - 17s 333us/step - loss: 0.5921 - acc: 0.7865 - val_loss: 1.9826 - val_acc: 0.5072\n",
      "Epoch 57/100\n",
      "50000/50000 [==============================] - 17s 332us/step - loss: 0.5724 - acc: 0.7956 - val_loss: 1.9047 - val_acc: 0.5125\n",
      "Epoch 58/100\n",
      "50000/50000 [==============================] - 17s 331us/step - loss: 0.5771 - acc: 0.7936 - val_loss: 1.9521 - val_acc: 0.5166\n"
     ]
    },
    {
     "name": "stdout",
     "output_type": "stream",
     "text": [
      "Epoch 59/100\n",
      "50000/50000 [==============================] - 17s 332us/step - loss: 0.5494 - acc: 0.8046 - val_loss: 1.9697 - val_acc: 0.5121\n",
      "Epoch 60/100\n",
      "50000/50000 [==============================] - 17s 334us/step - loss: 0.5391 - acc: 0.8078 - val_loss: 2.0804 - val_acc: 0.5059\n",
      "Epoch 61/100\n",
      "50000/50000 [==============================] - 16s 329us/step - loss: 0.5441 - acc: 0.8068 - val_loss: 1.9881 - val_acc: 0.5099\n",
      "Epoch 62/100\n",
      "50000/50000 [==============================] - 17s 331us/step - loss: 0.5209 - acc: 0.8146 - val_loss: 2.0676 - val_acc: 0.5014\n",
      "Epoch 63/100\n",
      "50000/50000 [==============================] - 17s 335us/step - loss: 0.5434 - acc: 0.8055 - val_loss: 2.0814 - val_acc: 0.5066\n",
      "Epoch 64/100\n",
      "50000/50000 [==============================] - 17s 333us/step - loss: 0.5194 - acc: 0.8126 - val_loss: 2.0835 - val_acc: 0.5084\n",
      "Epoch 65/100\n",
      "50000/50000 [==============================] - 16s 329us/step - loss: 0.5066 - acc: 0.8188 - val_loss: 2.1559 - val_acc: 0.5075\n",
      "Epoch 66/100\n",
      "50000/50000 [==============================] - 17s 330us/step - loss: 0.4883 - acc: 0.8255 - val_loss: 2.1847 - val_acc: 0.5047\n",
      "Epoch 67/100\n",
      "50000/50000 [==============================] - 17s 333us/step - loss: 0.4875 - acc: 0.8261 - val_loss: 2.1913 - val_acc: 0.5143\n",
      "Epoch 68/100\n",
      "50000/50000 [==============================] - 17s 333us/step - loss: 0.4845 - acc: 0.8271 - val_loss: 2.2261 - val_acc: 0.4985\n",
      "Epoch 69/100\n",
      "50000/50000 [==============================] - 16s 330us/step - loss: 0.4664 - acc: 0.8320 - val_loss: 2.2240 - val_acc: 0.5103\n",
      "Epoch 70/100\n",
      "50000/50000 [==============================] - 16s 330us/step - loss: 0.4430 - acc: 0.8418 - val_loss: 2.2232 - val_acc: 0.5130\n",
      "Epoch 71/100\n",
      "50000/50000 [==============================] - 17s 331us/step - loss: 0.4462 - acc: 0.8405 - val_loss: 2.2767 - val_acc: 0.5062\n",
      "Epoch 72/100\n",
      "50000/50000 [==============================] - 16s 330us/step - loss: 0.4415 - acc: 0.8429 - val_loss: 2.3730 - val_acc: 0.4983\n",
      "Epoch 73/100\n",
      "50000/50000 [==============================] - 16s 330us/step - loss: 0.4476 - acc: 0.8399 - val_loss: 2.4086 - val_acc: 0.4952\n",
      "Epoch 74/100\n",
      "50000/50000 [==============================] - 16s 329us/step - loss: 0.4278 - acc: 0.8477 - val_loss: 2.3867 - val_acc: 0.5027\n",
      "Epoch 75/100\n",
      "50000/50000 [==============================] - 16s 328us/step - loss: 0.4186 - acc: 0.8517 - val_loss: 2.4964 - val_acc: 0.4971\n",
      "Epoch 76/100\n",
      "50000/50000 [==============================] - 16s 329us/step - loss: 0.4127 - acc: 0.8513 - val_loss: 2.4635 - val_acc: 0.5049\n",
      "Epoch 77/100\n",
      "50000/50000 [==============================] - 16s 329us/step - loss: 0.4100 - acc: 0.8520 - val_loss: 2.4991 - val_acc: 0.4918\n",
      "Epoch 78/100\n",
      "50000/50000 [==============================] - 16s 328us/step - loss: 0.4079 - acc: 0.8545 - val_loss: 2.5853 - val_acc: 0.4950\n",
      "Epoch 79/100\n",
      "50000/50000 [==============================] - 16s 329us/step - loss: 0.3970 - acc: 0.8577 - val_loss: 2.5128 - val_acc: 0.5089\n",
      "Epoch 80/100\n",
      "50000/50000 [==============================] - 16s 327us/step - loss: 0.3749 - acc: 0.8648 - val_loss: 2.4617 - val_acc: 0.5055\n",
      "Epoch 81/100\n",
      "50000/50000 [==============================] - 17s 333us/step - loss: 0.3735 - acc: 0.8671 - val_loss: 2.5372 - val_acc: 0.4985\n",
      "Epoch 82/100\n",
      "50000/50000 [==============================] - 17s 335us/step - loss: 0.3790 - acc: 0.8634 - val_loss: 2.7165 - val_acc: 0.4890\n",
      "Epoch 83/100\n",
      "50000/50000 [==============================] - 16s 329us/step - loss: 0.3893 - acc: 0.8596 - val_loss: 2.6513 - val_acc: 0.5003\n",
      "Epoch 84/100\n",
      "50000/50000 [==============================] - 16s 328us/step - loss: 0.3645 - acc: 0.8686 - val_loss: 2.6359 - val_acc: 0.4998\n",
      "Epoch 85/100\n",
      "50000/50000 [==============================] - 16s 329us/step - loss: 0.3550 - acc: 0.8730 - val_loss: 2.6667 - val_acc: 0.5033\n",
      "Epoch 86/100\n",
      "50000/50000 [==============================] - 16s 329us/step - loss: 0.3528 - acc: 0.8732 - val_loss: 2.7129 - val_acc: 0.5005\n",
      "Epoch 87/100\n",
      "50000/50000 [==============================] - 17s 330us/step - loss: 0.3403 - acc: 0.8787 - val_loss: 2.7821 - val_acc: 0.5009\n",
      "Epoch 88/100\n",
      "50000/50000 [==============================] - 16s 329us/step - loss: 0.3273 - acc: 0.8838 - val_loss: 2.8385 - val_acc: 0.4989\n",
      "Epoch 89/100\n",
      "50000/50000 [==============================] - 16s 329us/step - loss: 0.3300 - acc: 0.8829 - val_loss: 2.7529 - val_acc: 0.4948\n",
      "Epoch 90/100\n",
      "50000/50000 [==============================] - 16s 327us/step - loss: 0.3462 - acc: 0.8752 - val_loss: 2.8810 - val_acc: 0.4955\n",
      "Epoch 91/100\n",
      "50000/50000 [==============================] - 16s 325us/step - loss: 0.3396 - acc: 0.8764 - val_loss: 2.7940 - val_acc: 0.5011\n",
      "Epoch 92/100\n",
      "50000/50000 [==============================] - 17s 331us/step - loss: 0.3206 - acc: 0.8842 - val_loss: 2.9082 - val_acc: 0.4992\n",
      "Epoch 93/100\n",
      "50000/50000 [==============================] - 16s 329us/step - loss: 0.3372 - acc: 0.8786 - val_loss: 2.8173 - val_acc: 0.4892\n",
      "Epoch 94/100\n",
      "50000/50000 [==============================] - 17s 330us/step - loss: 0.3314 - acc: 0.8807 - val_loss: 2.9291 - val_acc: 0.4984\n",
      "Epoch 95/100\n",
      "50000/50000 [==============================] - 17s 330us/step - loss: 0.3162 - acc: 0.8856 - val_loss: 2.9724 - val_acc: 0.4949\n",
      "Epoch 96/100\n",
      "50000/50000 [==============================] - 17s 332us/step - loss: 0.3104 - acc: 0.8868 - val_loss: 2.9608 - val_acc: 0.5003\n",
      "Epoch 97/100\n",
      "50000/50000 [==============================] - 17s 330us/step - loss: 0.3233 - acc: 0.8837 - val_loss: 2.9336 - val_acc: 0.4996\n",
      "Epoch 98/100\n",
      "50000/50000 [==============================] - 17s 331us/step - loss: 0.2947 - acc: 0.8935 - val_loss: 3.0594 - val_acc: 0.4942\n",
      "Epoch 99/100\n",
      "50000/50000 [==============================] - 16s 328us/step - loss: 0.2998 - acc: 0.8934 - val_loss: 3.0030 - val_acc: 0.5019\n",
      "Epoch 100/100\n",
      "50000/50000 [==============================] - 17s 335us/step - loss: 0.2968 - acc: 0.8928 - val_loss: 3.0164 - val_acc: 0.5029\n"
     ]
    },
    {
     "data": {
      "text/plain": [
       "<keras.callbacks.History at 0x240012146a0>"
      ]
     },
     "execution_count": 9,
     "metadata": {},
     "output_type": "execute_result"
    }
   ],
   "source": [
    "model.fit(x_train, y_train, \n",
    "          epochs=EPOCHS, \n",
    "          batch_size=BATCH_SIZE, \n",
    "          validation_data=(x_test, y_test), \n",
    "          shuffle=True)"
   ]
  },
  {
   "cell_type": "code",
   "execution_count": 11,
   "metadata": {},
   "outputs": [
    {
     "data": {
      "image/png": "[encoded data removed]",
      "text/plain": [
       "<Figure size 432x288 with 1 Axes>"
      ]
     },
     "metadata": {},
     "output_type": "display_data"
    },
    {
     "data": {
      "image/png": "[encoded data removed]",
      "text/plain": [
       "<Figure size 432x288 with 1 Axes>"
      ]
     },
     "metadata": {},
     "output_type": "display_data"
    }
   ],
   "source": [
    "# 訓練模型並檢視驗證集的結果\n",
    "import matplotlib.pyplot as plt\n",
    "\n",
    "train_loss = model.history.history[\"loss\"]\n",
    "valid_loss = model.history.history[\"val_loss\"]\n",
    "\n",
    "train_acc = model.history.history[\"acc\"]\n",
    "valid_acc = model.history.history[\"val_acc\"]\n",
    "\n",
    "plt.plot(range(len(train_loss)), train_loss, label=\"train loss\")\n",
    "plt.plot(range(len(valid_loss)), valid_loss, label=\"valid loss\")\n",
    "plt.legend()\n",
    "plt.title(\"Loss\")\n",
    "plt.show()\n",
    "\n",
    "plt.plot(range(len(train_acc)), train_acc, label=\"train accuracy\")\n",
    "plt.plot(range(len(valid_acc)), valid_acc, label=\"valid accuracy\")\n",
    "plt.legend()\n",
    "plt.title(\"Accuracy\")\n",
    "plt.show()"
   ]
  },
  {
   "cell_type": "markdown",
   "metadata": {},
   "source": [
    "## Work\n",
    "1. 請嘗試將 preproc_x 替換成以每筆資料的 min/max 進行標準化至 -1 ~ 1 間，再進行訓練\n",
    "2. 請嘗試將 mlp 疊更深 (e.g 5~10 層)，進行訓練後觀察 learning curve 的走勢\n",
    "3. (optional) 請改用 GPU 進行訓練 (如果你有 GPU 的話)，比較使用 CPU 與 GPU 的訓練速度"
   ]
  },
  {
   "cell_type": "code",
   "execution_count": null,
   "metadata": {},
   "outputs": [],
   "source": []
  }
 ],
 "metadata": {
  "kernelspec": {
   "display_name": "Python 3",
   "language": "python",
   "name": "python3"
  },
  "language_info": {
   "codemirror_mode": {
    "name": "ipython",
    "version": 3
   },
   "file_extension": ".py",
   "mimetype": "text/x-python",
   "name": "python",
   "nbconvert_exporter": "python",
   "pygments_lexer": "ipython3",
   "version": "3.6.5"
  }
 },
 "nbformat": 4,
 "nbformat_minor": 2
}
