{
 "cells": [
  {
   "cell_type": "markdown",
   "metadata": {
    "collapsed": true
   },
   "source": [
    "# 使用手寫辨識資料集, 觀察 PCA 算法"
   ]
  },
  {
   "cell_type": "markdown",
   "metadata": {},
   "source": [
    "# [教學目標]\n",
    "- 以 PCA + 邏輯斯迴歸判斷手寫辨識資料集, 觀察不同 component 下正確率的變化\n",
    "- 因為非監督模型的效果, 較難以簡單的範例看出來  \n",
    "  所以非監督偶數日提供的範例與作業, 主要目的在於觀察非監督模型的效果,  \n",
    "  同學只要能感受到模型效果即可, 不用執著於搞懂程式的每一個部分"
   ]
  },
  {
   "cell_type": "markdown",
   "metadata": {},
   "source": [
    "# [範例重點]\n",
    "- 以手寫辨識資料集, 觀察 PCA 算法取不同 component 時, PCA 解釋度與分類正確率如何變化 (In[5], Out[5])"
   ]
  },
  {
   "cell_type": "code",
   "execution_count": 2,
   "metadata": {},
   "outputs": [],
   "source": [
    "# 載入套件\n",
    "import numpy as np\n",
    "import matplotlib.pyplot as plt\n",
    "import pandas as pd\n",
    "\n",
    "from sklearn import datasets\n",
    "from sklearn.decomposition import PCA\n",
    "from sklearn.linear_model import SGDClassifier\n",
    "from sklearn.pipeline import Pipeline\n",
    "from sklearn.model_selection import GridSearchCV\n",
    "import warnings\n",
    "warnings.filterwarnings(\"ignore\")"
   ]
  },
  {
   "cell_type": "code",
   "execution_count": 3,
   "metadata": {},
   "outputs": [],
   "source": [
    "# 定義 PCA 與隨後的邏輯斯迴歸函數\n",
    "logistic = SGDClassifier(loss='log', penalty='l2', max_iter=10000, tol=1e-5, random_state=0)\n",
    "pca = PCA()\n",
    "pipe = Pipeline(steps=[('pca', pca), ('logistic', logistic)])\n",
    "\n",
    "# 載入手寫數字辨識集\n",
    "digits = datasets.load_digits()\n",
    "X_digits = digits.data\n",
    "y_digits = digits.target"
   ]
  },
  {
   "cell_type": "code",
   "execution_count": 4,
   "metadata": {},
   "outputs": [
    {
     "name": "stdout",
     "output_type": "stream",
     "text": [
      "Best parameter (CV score=0.915):\n",
      "{'logistic__alpha': 0.01, 'pca__n_components': 50}\n"
     ]
    }
   ],
   "source": [
    "# 先執行 GridSearchCV 跑出最佳參數\n",
    "param_grid = {\n",
    "    'pca__n_components': [4, 10, 20, 30, 40, 50, 64],\n",
    "    'logistic__alpha': np.logspace(-4, 4, 5),\n",
    "}\n",
    "search = GridSearchCV(pipe, param_grid, iid=False, cv=5, return_train_score=False)\n",
    "search.fit(X_digits, y_digits)\n",
    "print(\"Best parameter (CV score=%0.3f):\" % search.best_score_)\n",
    "print(search.best_params_)"
   ]
  },
  {
   "cell_type": "code",
   "execution_count": 12,
   "metadata": {},
   "outputs": [
    {
     "data": {
      "text/plain": [
       "<matplotlib.legend.Legend at 0x25aa6fe1c50>"
      ]
     },
     "execution_count": 12,
     "metadata": {},
     "output_type": "execute_result"
    },
    {
     "data": {
      "image/png": "[encoded data removed]",
      "text/plain": [
       "<Figure size 432x432 with 1 Axes>"
      ]
     },
     "metadata": {},
     "output_type": "display_data"
    }
   ],
   "source": [
    "# 繪製不同 components 的 PCA 解釋度\n",
    "pca.fit(X_digits)\n",
    "\n",
    "fig, ax0 = plt.subplots(nrows=1, sharex=True, figsize=(6, 6))\n",
    "ax0.plot(pca.explained_variance_ratio_, linewidth=2)\n",
    "ax0.set_ylabel('PCA explained variance')\n",
    "\n",
    "ax0.axvline(search.best_estimator_.named_steps['pca'].n_components, linestyle=':', label='n_components chosen')\n",
    "ax0.legend(prop=dict(size=12))"
   ]
  },
  {
   "cell_type": "code",
   "execution_count": 15,
   "metadata": {},
   "outputs": [
    {
     "data": {
      "text/plain": [
       "<Figure size 432x288 with 0 Axes>"
      ]
     },
     "metadata": {},
     "output_type": "display_data"
    }
   ],
   "source": [
    "# 繪製不同採樣點的分類正確率\n",
    "results = pd.DataFrame(search.cv_results_)\n",
    "components_col = 'param_pca__n_components'\n",
    "best_clfs = results.groupby(components_col).apply(lambda g: g.nlargest(1, 'mean_test_score'))\n",
    "\n",
    "best_clfs.plot(x=components_col, y='mean_test_score', yerr='std_test_score', legend=False, ax=ax1)\n",
    "ax1.set_ylabel('Classification accuracy (val)')\n",
    "ax1.set_xlabel('n_components')\n",
    "plt.tight_layout()\n",
    "plt.show()"
   ]
  },
  {
   "cell_type": "markdown",
   "metadata": {
    "collapsed": true
   },
   "source": [
    "# 觀察結果\n",
    "* explained variance ratio : 解釋變異性隨著 components 穩定下降\n",
    "* 分類預測準確率 : 似乎也隨著 components 提升, 但是在 20 以後提升不多"
   ]
  },
  {
   "cell_type": "code",
   "execution_count": 14,
   "metadata": {},
   "outputs": [
    {
     "name": "stdout",
     "output_type": "stream",
     "text": [
      "    mean_fit_time  std_fit_time  mean_score_time  std_score_time  \\\n",
      "0        0.259215      0.045086         0.001213        0.000428   \n",
      "1        0.163181      0.012173         0.001792        0.001738   \n",
      "2        0.204783      0.028362         0.001488        0.000605   \n",
      "3        0.221718      0.020210         0.001027        0.000034   \n",
      "4        0.220522      0.020172         0.002240        0.000951   \n",
      "5        0.241333      0.029348         0.001806        0.000751   \n",
      "6        0.235112      0.025470         0.002862        0.001699   \n",
      "7        3.463144      1.628151         0.001268        0.000389   \n",
      "8        0.118197      0.036635         0.001203        0.000401   \n",
      "9        0.135371      0.005332         0.001914        0.001142   \n",
      "10       0.174356      0.015949         0.001468        0.000931   \n",
      "11       0.197945      0.031143         0.001830        0.000418   \n",
      "12       0.272974      0.041608         0.002310        0.000755   \n",
      "13       0.248346      0.038311         0.001785        0.000412   \n",
      "14       0.846048      0.103564         0.001238        0.000606   \n",
      "15       1.006796      0.131727         0.001217        0.000395   \n",
      "16       1.165618      0.128969         0.001401        0.000519   \n",
      "17       1.383478      0.140828         0.001435        0.000550   \n",
      "18       1.597084      0.150577         0.001692        0.000572   \n",
      "19       1.844857      0.118983         0.001990        0.000056   \n",
      "20       2.087277      0.181761         0.002018        0.000421   \n",
      "21       0.509419      0.039967         0.001588        0.000821   \n",
      "22       0.625944      0.012765         0.001312        0.000772   \n",
      "23       0.739534      0.027417         0.001630        0.000538   \n",
      "24       0.910782      0.028261         0.001613        0.000479   \n",
      "25       1.045490      0.023796         0.001832        0.000414   \n",
      "26       1.234706      0.082265         0.002611        0.001416   \n",
      "27       1.345724      0.038879         0.002824        0.001372   \n",
      "28       0.044390      0.003498         0.001274        0.000376   \n",
      "29       0.047883      0.002994         0.000960        0.000255   \n",
      "30       0.063814      0.004557         0.001354        0.000543   \n",
      "31       0.070191      0.003900         0.002241        0.000382   \n",
      "32       0.080310      0.004903         0.002075        0.000668   \n",
      "33       0.099021      0.008586         0.002602        0.000815   \n",
      "34       0.080942      0.004542         0.001953        0.000566   \n",
      "\n",
      "   param_logistic__alpha param_pca__n_components  \\\n",
      "0                 0.0001                       4   \n",
      "1                 0.0001                      10   \n",
      "2                 0.0001                      20   \n",
      "3                 0.0001                      30   \n",
      "4                 0.0001                      40   \n",
      "5                 0.0001                      50   \n",
      "6                 0.0001                      64   \n",
      "7                   0.01                       4   \n",
      "8                   0.01                      10   \n",
      "9                   0.01                      20   \n",
      "10                  0.01                      30   \n",
      "11                  0.01                      40   \n",
      "12                  0.01                      50   \n",
      "13                  0.01                      64   \n",
      "14                     1                       4   \n",
      "15                     1                      10   \n",
      "16                     1                      20   \n",
      "17                     1                      30   \n",
      "18                     1                      40   \n",
      "19                     1                      50   \n",
      "20                     1                      64   \n",
      "21                   100                       4   \n",
      "22                   100                      10   \n",
      "23                   100                      20   \n",
      "24                   100                      30   \n",
      "25                   100                      40   \n",
      "26                   100                      50   \n",
      "27                   100                      64   \n",
      "28                 10000                       4   \n",
      "29                 10000                      10   \n",
      "30                 10000                      20   \n",
      "31                 10000                      30   \n",
      "32                 10000                      40   \n",
      "33                 10000                      50   \n",
      "34                 10000                      64   \n",
      "\n",
      "                                               params  split0_test_score  \\\n",
      "0   {'logistic__alpha': 0.0001, 'pca__n_components...           0.752747   \n",
      "1   {'logistic__alpha': 0.0001, 'pca__n_components...           0.901099   \n",
      "2   {'logistic__alpha': 0.0001, 'pca__n_components...           0.928571   \n",
      "3   {'logistic__alpha': 0.0001, 'pca__n_components...           0.925824   \n",
      "4   {'logistic__alpha': 0.0001, 'pca__n_components...           0.920330   \n",
      "5   {'logistic__alpha': 0.0001, 'pca__n_components...           0.909341   \n",
      "6   {'logistic__alpha': 0.0001, 'pca__n_components...           0.898352   \n",
      "7   {'logistic__alpha': 0.01, 'pca__n_components': 4}           0.719780   \n",
      "8   {'logistic__alpha': 0.01, 'pca__n_components':...           0.898352   \n",
      "9   {'logistic__alpha': 0.01, 'pca__n_components':...           0.925824   \n",
      "10  {'logistic__alpha': 0.01, 'pca__n_components':...           0.931319   \n",
      "11  {'logistic__alpha': 0.01, 'pca__n_components':...           0.923077   \n",
      "12  {'logistic__alpha': 0.01, 'pca__n_components':...           0.920330   \n",
      "13  {'logistic__alpha': 0.01, 'pca__n_components':...           0.920330   \n",
      "14   {'logistic__alpha': 1.0, 'pca__n_components': 4}           0.697802   \n",
      "15  {'logistic__alpha': 1.0, 'pca__n_components': 10}           0.892857   \n",
      "16  {'logistic__alpha': 1.0, 'pca__n_components': 20}           0.914835   \n",
      "17  {'logistic__alpha': 1.0, 'pca__n_components': 30}           0.920330   \n",
      "18  {'logistic__alpha': 1.0, 'pca__n_components': 40}           0.923077   \n",
      "19  {'logistic__alpha': 1.0, 'pca__n_components': 50}           0.923077   \n",
      "20  {'logistic__alpha': 1.0, 'pca__n_components': 64}           0.923077   \n",
      "21  {'logistic__alpha': 100.0, 'pca__n_components'...           0.656593   \n",
      "22  {'logistic__alpha': 100.0, 'pca__n_components'...           0.862637   \n",
      "23  {'logistic__alpha': 100.0, 'pca__n_components'...           0.873626   \n",
      "24  {'logistic__alpha': 100.0, 'pca__n_components'...           0.879121   \n",
      "25  {'logistic__alpha': 100.0, 'pca__n_components'...           0.879121   \n",
      "26  {'logistic__alpha': 100.0, 'pca__n_components'...           0.879121   \n",
      "27  {'logistic__alpha': 100.0, 'pca__n_components'...           0.879121   \n",
      "28  {'logistic__alpha': 10000.0, 'pca__n_component...           0.656593   \n",
      "29  {'logistic__alpha': 10000.0, 'pca__n_component...           0.848901   \n",
      "30  {'logistic__alpha': 10000.0, 'pca__n_component...           0.865385   \n",
      "31  {'logistic__alpha': 10000.0, 'pca__n_component...           0.868132   \n",
      "32  {'logistic__alpha': 10000.0, 'pca__n_component...           0.868132   \n",
      "33  {'logistic__alpha': 10000.0, 'pca__n_component...           0.868132   \n",
      "34  {'logistic__alpha': 10000.0, 'pca__n_component...           0.868132   \n",
      "\n",
      "    split1_test_score  split2_test_score  split3_test_score  \\\n",
      "0            0.616022           0.679666           0.691877   \n",
      "1            0.834254           0.874652           0.901961   \n",
      "2            0.875691           0.902507           0.932773   \n",
      "3            0.878453           0.930362           0.955182   \n",
      "4            0.881215           0.927577           0.952381   \n",
      "5            0.875691           0.938719           0.952381   \n",
      "6            0.881215           0.941504           0.952381   \n",
      "7            0.588398           0.752089           0.700280   \n",
      "8            0.850829           0.894150           0.910364   \n",
      "9            0.867403           0.916435           0.938375   \n",
      "10           0.892265           0.933148           0.946779   \n",
      "11           0.883978           0.944290           0.946779   \n",
      "12           0.886740           0.949861           0.946779   \n",
      "13           0.886740           0.944290           0.952381   \n",
      "14           0.687845           0.718663           0.761905   \n",
      "15           0.820442           0.880223           0.907563   \n",
      "16           0.864641           0.913649           0.946779   \n",
      "17           0.889503           0.930362           0.952381   \n",
      "18           0.886740           0.922006           0.952381   \n",
      "19           0.881215           0.922006           0.952381   \n",
      "20           0.881215           0.922006           0.952381   \n",
      "21           0.364641           0.515320           0.487395   \n",
      "22           0.535912           0.766017           0.719888   \n",
      "23           0.544199           0.766017           0.733894   \n",
      "24           0.552486           0.774373           0.736695   \n",
      "25           0.552486           0.774373           0.733894   \n",
      "26           0.552486           0.774373           0.733894   \n",
      "27           0.552486           0.774373           0.733894   \n",
      "28           0.168508           0.100279           0.100840   \n",
      "29           0.171271           0.100279           0.100840   \n",
      "30           0.171271           0.100279           0.100840   \n",
      "31           0.171271           0.100279           0.100840   \n",
      "32           0.171271           0.100279           0.100840   \n",
      "33           0.171271           0.100279           0.100840   \n",
      "34           0.171271           0.100279           0.100840   \n",
      "\n",
      "    split4_test_score  mean_test_score  std_test_score  rank_test_score  \n",
      "0            0.614085         0.670879        0.051876               27  \n",
      "1            0.845070         0.871407        0.027927               18  \n",
      "2            0.892958         0.906500        0.021568               13  \n",
      "3            0.881690         0.914302        0.029700                3  \n",
      "4            0.892958         0.914892        0.025342                2  \n",
      "5            0.890141         0.913254        0.028775                7  \n",
      "6            0.892958         0.913282        0.028247                6  \n",
      "7            0.732394         0.698588        0.057618               24  \n",
      "8            0.830986         0.876936        0.030546               16  \n",
      "9            0.864789         0.902565        0.030591               14  \n",
      "10           0.867606         0.914223        0.029549                5  \n",
      "11           0.867606         0.913146        0.032014                8  \n",
      "12           0.873239         0.915390        0.030969                1  \n",
      "13           0.867606         0.914269        0.032637                4  \n",
      "14           0.656338         0.704511        0.035036               19  \n",
      "15           0.861972         0.872611        0.030081               17  \n",
      "16           0.856338         0.899248        0.033907               15  \n",
      "17           0.870423         0.912600        0.029224                9  \n",
      "18           0.867606         0.910362        0.029829               10  \n",
      "19           0.867606         0.909257        0.030771               11  \n",
      "20           0.867606         0.909257        0.030771               11  \n",
      "21           0.428169         0.490424        0.097917               28  \n",
      "22           0.540845         0.685060        0.128331               26  \n",
      "23           0.571831         0.697913        0.123558               25  \n",
      "24           0.574648         0.703465        0.123593               20  \n",
      "25           0.571831         0.702341        0.124036               21  \n",
      "26           0.571831         0.702341        0.124036               21  \n",
      "27           0.571831         0.702341        0.124036               21  \n",
      "28           0.149296         0.235103        0.212441               35  \n",
      "29           0.163380         0.276934        0.287549               34  \n",
      "30           0.157746         0.279104        0.294563               33  \n",
      "31           0.157746         0.279654        0.295657               29  \n",
      "32           0.157746         0.279654        0.295657               29  \n",
      "33           0.157746         0.279654        0.295657               29  \n",
      "34           0.157746         0.279654        0.295657               29  \n"
     ]
    }
   ],
   "source": [
    "print(results)"
   ]
  },
  {
   "cell_type": "code",
   "execution_count": null,
   "metadata": {},
   "outputs": [],
   "source": []
  }
 ],
 "metadata": {
  "kernelspec": {
   "display_name": "Python 3",
   "language": "python",
   "name": "python3"
  },
  "language_info": {
   "codemirror_mode": {
    "name": "ipython",
    "version": 3
   },
   "file_extension": ".py",
   "mimetype": "text/x-python",
   "name": "python",
   "nbconvert_exporter": "python",
   "pygments_lexer": "ipython3",
   "version": "3.6.5"
  }
 },
 "nbformat": 4,
 "nbformat_minor": 1
}
